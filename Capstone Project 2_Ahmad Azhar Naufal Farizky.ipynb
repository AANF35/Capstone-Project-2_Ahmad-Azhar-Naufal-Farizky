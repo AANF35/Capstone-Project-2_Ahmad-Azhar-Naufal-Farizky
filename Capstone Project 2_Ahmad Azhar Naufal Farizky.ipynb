{
 "cells": [
  {
   "cell_type": "markdown",
   "metadata": {},
   "source": [
    "# Latar Belakang"
   ]
  },
  {
   "cell_type": "markdown",
   "metadata": {},
   "source": [
    "Pasar Airbnb di Bangkok sangat kompetitif dengan beragam penginapan yang ditawarkan melalui Airbnb baik dari akomodasi mewah hingga akomodasi terjangkau. Ketika pelanggan menginap di Bangkok, pelanggan seringkali meninjau ulasan, harga, dan fasilitas yang ditawarkan dalam menentukan keputusan akomodasi yang ingin dipilih. Akan tetapi, cara ini berpotensi mengabaikan iklan-iklan yang menawarkan kompetensi serupa namun memiliki ulasan yang relatif sangat sedikit. Hal ini menimbulkan kecenderungan kurangnya kompetensi akibat kalah bersaing. Meskipun begitu, bagaimanapun akomodasi yang ditawarkan kompetitor yang memiliki lebih banyak ulasan, mereka memiliki keterbatasan tempat dan tidak mungkin bisa mengakomodasi pelanggan lebih banyak dari yang kapasitas tersedia. \n",
    "\n",
    "Bagi pemilik penginapan dan Airbnb, hal ini merupakan suatu kesempatan untuk mengidentifikasi/mengevaluasi terjadinya hal tersebut. Dengan begitu, ketika terdapat sangat banyak pelanggan yang tiba di Bangkok, pemilik penginapan dan Airbnb dapat menyediakan berbagai alternatif penginapan yang kompetitif sehingga akomodasi yang dimiliki dapat dikatakan memiliki 'value-for-money' yang sangat baik."
   ]
  },
  {
   "cell_type": "markdown",
   "metadata": {},
   "source": [
    "## Pernyataan Masalah"
   ]
  },
  {
   "cell_type": "markdown",
   "metadata": {},
   "source": [
    "Para pemilik penginapan dan Airbnb ingin mengetahui iklan-iklan di Bangkok yang menawarkan 'value-for-money' yang sangat baik namun memiliki banyak review yang relatif sedikit. "
   ]
  },
  {
   "cell_type": "markdown",
   "metadata": {},
   "source": [
    "Kali ini, saya akan berperan sebagai data analyst Airbnb. Tujuan analisis data ini adalah:\n",
    "1. Membantu para pemilik penginapan mengetahui kriteria-kriteria yang mampu membuat iklan mereka dalam daftar 'value-for-money' yang mampu menarik para pelanggan.\n",
    "2. Membantu Airbnb mempromosikan iklan-iklan yang dapat diandalkan dan hemat biaya yang mungkin diabaikan oleh para pelanggan, sehingga pengalaman pemesanan bagi pelanggan yang sadar terhadap 'nilai' dapat meningkat."
   ]
  },
  {
   "cell_type": "markdown",
   "metadata": {},
   "source": [
    "# Dataset"
   ]
  },
  {
   "cell_type": "code",
   "execution_count": 126,
   "metadata": {},
   "outputs": [],
   "source": [
    "import pandas as pd\n",
    "import numpy as np\n",
    "import matplotlib.pyplot as plt\n",
    "import seaborn as sns\n",
    "# import plotly.express as px\n",
    "from scipy.stats import normaltest, chi2_contingency, mannwhitneyu, ttest_ind\n",
    "\n",
    "import warnings\n",
    "warnings.filterwarnings(\"ignore\")"
   ]
  },
  {
   "cell_type": "markdown",
   "metadata": {},
   "source": [
    "### Kolom-kolom"
   ]
  },
  {
   "cell_type": "markdown",
   "metadata": {},
   "source": [
    "Sebagai rangkuman, dataframe akan memuat kolom-kolom dalam file berikut.\n",
    "https://drive.google.com/file/d/1v9Q__6ECVmrmADiCiaTGl3-dl2vnRNVY/view?usp=drive_link"
   ]
  },
  {
   "cell_type": "code",
   "execution_count": 127,
   "metadata": {},
   "outputs": [],
   "source": [
    "# Import dari file .csv\n",
    "df = pd.read_csv(\"Airbnb Listings Bangkok.csv\")"
   ]
  },
  {
   "cell_type": "code",
   "execution_count": 128,
   "metadata": {},
   "outputs": [
    {
     "data": {
      "text/html": [
       "<div>\n",
       "<style scoped>\n",
       "    .dataframe tbody tr th:only-of-type {\n",
       "        vertical-align: middle;\n",
       "    }\n",
       "\n",
       "    .dataframe tbody tr th {\n",
       "        vertical-align: top;\n",
       "    }\n",
       "\n",
       "    .dataframe thead th {\n",
       "        text-align: right;\n",
       "    }\n",
       "</style>\n",
       "<table border=\"1\" class=\"dataframe\">\n",
       "  <thead>\n",
       "    <tr style=\"text-align: right;\">\n",
       "      <th></th>\n",
       "      <th>Unnamed: 0</th>\n",
       "      <th>id</th>\n",
       "      <th>name</th>\n",
       "      <th>host_id</th>\n",
       "      <th>host_name</th>\n",
       "      <th>neighbourhood</th>\n",
       "      <th>latitude</th>\n",
       "      <th>longitude</th>\n",
       "      <th>room_type</th>\n",
       "      <th>price</th>\n",
       "      <th>minimum_nights</th>\n",
       "      <th>number_of_reviews</th>\n",
       "      <th>last_review</th>\n",
       "      <th>reviews_per_month</th>\n",
       "      <th>calculated_host_listings_count</th>\n",
       "      <th>availability_365</th>\n",
       "      <th>number_of_reviews_ltm</th>\n",
       "    </tr>\n",
       "  </thead>\n",
       "  <tbody>\n",
       "    <tr>\n",
       "      <th>0</th>\n",
       "      <td>0</td>\n",
       "      <td>27934</td>\n",
       "      <td>Nice room with superb city view</td>\n",
       "      <td>120437</td>\n",
       "      <td>Nuttee</td>\n",
       "      <td>Ratchathewi</td>\n",
       "      <td>13.759830</td>\n",
       "      <td>100.541340</td>\n",
       "      <td>Entire home/apt</td>\n",
       "      <td>1905</td>\n",
       "      <td>3</td>\n",
       "      <td>65</td>\n",
       "      <td>2020-01-06</td>\n",
       "      <td>0.50</td>\n",
       "      <td>2</td>\n",
       "      <td>353</td>\n",
       "      <td>0</td>\n",
       "    </tr>\n",
       "    <tr>\n",
       "      <th>1</th>\n",
       "      <td>1</td>\n",
       "      <td>27979</td>\n",
       "      <td>Easy going landlord,easy place</td>\n",
       "      <td>120541</td>\n",
       "      <td>Emy</td>\n",
       "      <td>Bang Na</td>\n",
       "      <td>13.668180</td>\n",
       "      <td>100.616740</td>\n",
       "      <td>Private room</td>\n",
       "      <td>1316</td>\n",
       "      <td>1</td>\n",
       "      <td>0</td>\n",
       "      <td>NaN</td>\n",
       "      <td>NaN</td>\n",
       "      <td>2</td>\n",
       "      <td>358</td>\n",
       "      <td>0</td>\n",
       "    </tr>\n",
       "    <tr>\n",
       "      <th>2</th>\n",
       "      <td>2</td>\n",
       "      <td>28745</td>\n",
       "      <td>modern-style apartment in Bangkok</td>\n",
       "      <td>123784</td>\n",
       "      <td>Familyroom</td>\n",
       "      <td>Bang Kapi</td>\n",
       "      <td>13.752320</td>\n",
       "      <td>100.624020</td>\n",
       "      <td>Private room</td>\n",
       "      <td>800</td>\n",
       "      <td>60</td>\n",
       "      <td>0</td>\n",
       "      <td>NaN</td>\n",
       "      <td>NaN</td>\n",
       "      <td>1</td>\n",
       "      <td>365</td>\n",
       "      <td>0</td>\n",
       "    </tr>\n",
       "    <tr>\n",
       "      <th>3</th>\n",
       "      <td>3</td>\n",
       "      <td>35780</td>\n",
       "      <td>Spacious one bedroom at The Kris Condo Bldg. 3</td>\n",
       "      <td>153730</td>\n",
       "      <td>Sirilak</td>\n",
       "      <td>Din Daeng</td>\n",
       "      <td>13.788230</td>\n",
       "      <td>100.572560</td>\n",
       "      <td>Private room</td>\n",
       "      <td>1286</td>\n",
       "      <td>7</td>\n",
       "      <td>2</td>\n",
       "      <td>2022-04-01</td>\n",
       "      <td>0.03</td>\n",
       "      <td>1</td>\n",
       "      <td>323</td>\n",
       "      <td>1</td>\n",
       "    </tr>\n",
       "    <tr>\n",
       "      <th>4</th>\n",
       "      <td>4</td>\n",
       "      <td>941865</td>\n",
       "      <td>Suite Room 3 at MetroPoint</td>\n",
       "      <td>610315</td>\n",
       "      <td>Kasem</td>\n",
       "      <td>Bang Kapi</td>\n",
       "      <td>13.768720</td>\n",
       "      <td>100.633380</td>\n",
       "      <td>Private room</td>\n",
       "      <td>1905</td>\n",
       "      <td>1</td>\n",
       "      <td>0</td>\n",
       "      <td>NaN</td>\n",
       "      <td>NaN</td>\n",
       "      <td>3</td>\n",
       "      <td>365</td>\n",
       "      <td>0</td>\n",
       "    </tr>\n",
       "    <tr>\n",
       "      <th>...</th>\n",
       "      <td>...</td>\n",
       "      <td>...</td>\n",
       "      <td>...</td>\n",
       "      <td>...</td>\n",
       "      <td>...</td>\n",
       "      <td>...</td>\n",
       "      <td>...</td>\n",
       "      <td>...</td>\n",
       "      <td>...</td>\n",
       "      <td>...</td>\n",
       "      <td>...</td>\n",
       "      <td>...</td>\n",
       "      <td>...</td>\n",
       "      <td>...</td>\n",
       "      <td>...</td>\n",
       "      <td>...</td>\n",
       "      <td>...</td>\n",
       "    </tr>\n",
       "    <tr>\n",
       "      <th>15849</th>\n",
       "      <td>15849</td>\n",
       "      <td>790465040741092826</td>\n",
       "      <td>素坤逸核心两房公寓42楼，靠近BTSon nut/无边天际泳池观赏曼谷夜景/出门当地美食街</td>\n",
       "      <td>94899359</td>\n",
       "      <td>Renee</td>\n",
       "      <td>Pra Wet</td>\n",
       "      <td>13.715132</td>\n",
       "      <td>100.653458</td>\n",
       "      <td>Private room</td>\n",
       "      <td>2298</td>\n",
       "      <td>28</td>\n",
       "      <td>0</td>\n",
       "      <td>NaN</td>\n",
       "      <td>NaN</td>\n",
       "      <td>1</td>\n",
       "      <td>362</td>\n",
       "      <td>0</td>\n",
       "    </tr>\n",
       "    <tr>\n",
       "      <th>15850</th>\n",
       "      <td>15850</td>\n",
       "      <td>790474503157243541</td>\n",
       "      <td>Euro LuxuryHotel PratunamMKt TripleBdNrShopingArea</td>\n",
       "      <td>491526222</td>\n",
       "      <td>Phakhamon</td>\n",
       "      <td>Ratchathewi</td>\n",
       "      <td>13.753052</td>\n",
       "      <td>100.538738</td>\n",
       "      <td>Private room</td>\n",
       "      <td>1429</td>\n",
       "      <td>1</td>\n",
       "      <td>0</td>\n",
       "      <td>NaN</td>\n",
       "      <td>NaN</td>\n",
       "      <td>14</td>\n",
       "      <td>365</td>\n",
       "      <td>0</td>\n",
       "    </tr>\n",
       "    <tr>\n",
       "      <th>15851</th>\n",
       "      <td>15851</td>\n",
       "      <td>790475335086864240</td>\n",
       "      <td>Euro LuxuryHotel PratunamMKt TwinBedNrShopingArea</td>\n",
       "      <td>491526222</td>\n",
       "      <td>Phakhamon</td>\n",
       "      <td>Ratchathewi</td>\n",
       "      <td>13.753169</td>\n",
       "      <td>100.538700</td>\n",
       "      <td>Private room</td>\n",
       "      <td>1214</td>\n",
       "      <td>1</td>\n",
       "      <td>0</td>\n",
       "      <td>NaN</td>\n",
       "      <td>NaN</td>\n",
       "      <td>14</td>\n",
       "      <td>365</td>\n",
       "      <td>0</td>\n",
       "    </tr>\n",
       "    <tr>\n",
       "      <th>15852</th>\n",
       "      <td>15852</td>\n",
       "      <td>790475546213717328</td>\n",
       "      <td>Euro LuxuryHotel PratunamMKt TwinBedNrShopingArea</td>\n",
       "      <td>491526222</td>\n",
       "      <td>Phakhamon</td>\n",
       "      <td>Ratchathewi</td>\n",
       "      <td>13.754789</td>\n",
       "      <td>100.538757</td>\n",
       "      <td>Private room</td>\n",
       "      <td>1214</td>\n",
       "      <td>1</td>\n",
       "      <td>0</td>\n",
       "      <td>NaN</td>\n",
       "      <td>NaN</td>\n",
       "      <td>14</td>\n",
       "      <td>365</td>\n",
       "      <td>0</td>\n",
       "    </tr>\n",
       "    <tr>\n",
       "      <th>15853</th>\n",
       "      <td>15853</td>\n",
       "      <td>790476492384199044</td>\n",
       "      <td>Euro LuxuryHotel PratunamMKt TwinBedNrShopingArea</td>\n",
       "      <td>491526222</td>\n",
       "      <td>Phakhamon</td>\n",
       "      <td>Ratchathewi</td>\n",
       "      <td>13.752960</td>\n",
       "      <td>100.540820</td>\n",
       "      <td>Private room</td>\n",
       "      <td>1214</td>\n",
       "      <td>1</td>\n",
       "      <td>0</td>\n",
       "      <td>NaN</td>\n",
       "      <td>NaN</td>\n",
       "      <td>14</td>\n",
       "      <td>365</td>\n",
       "      <td>0</td>\n",
       "    </tr>\n",
       "  </tbody>\n",
       "</table>\n",
       "<p>15854 rows × 17 columns</p>\n",
       "</div>"
      ],
      "text/plain": [
       "       Unnamed: 0                  id  \\\n",
       "0      0           27934                \n",
       "1      1           27979                \n",
       "2      2           28745                \n",
       "3      3           35780                \n",
       "4      4           941865               \n",
       "...   ..              ...               \n",
       "15849  15849       790465040741092826   \n",
       "15850  15850       790474503157243541   \n",
       "15851  15851       790475335086864240   \n",
       "15852  15852       790475546213717328   \n",
       "15853  15853       790476492384199044   \n",
       "\n",
       "                                                     name    host_id  \\\n",
       "0      Nice room with superb city view                     120437      \n",
       "1      Easy going landlord,easy place                      120541      \n",
       "2      modern-style apartment in Bangkok                   123784      \n",
       "3      Spacious one bedroom at The Kris Condo Bldg. 3      153730      \n",
       "4      Suite Room 3 at MetroPoint                          610315      \n",
       "...                           ...                             ...      \n",
       "15849  素坤逸核心两房公寓42楼，靠近BTSon nut/无边天际泳池观赏曼谷夜景/出门当地美食街       94899359    \n",
       "15850  Euro LuxuryHotel PratunamMKt TripleBdNrShopingArea  491526222   \n",
       "15851  Euro LuxuryHotel PratunamMKt TwinBedNrShopingArea   491526222   \n",
       "15852  Euro LuxuryHotel PratunamMKt TwinBedNrShopingArea   491526222   \n",
       "15853  Euro LuxuryHotel PratunamMKt TwinBedNrShopingArea   491526222   \n",
       "\n",
       "        host_name neighbourhood   latitude   longitude        room_type  \\\n",
       "0      Nuttee      Ratchathewi   13.759830  100.541340  Entire home/apt   \n",
       "1      Emy         Bang Na       13.668180  100.616740  Private room      \n",
       "2      Familyroom  Bang Kapi     13.752320  100.624020  Private room      \n",
       "3      Sirilak     Din Daeng     13.788230  100.572560  Private room      \n",
       "4      Kasem       Bang Kapi     13.768720  100.633380  Private room      \n",
       "...      ...             ...           ...         ...           ...      \n",
       "15849  Renee       Pra Wet       13.715132  100.653458  Private room      \n",
       "15850  Phakhamon   Ratchathewi   13.753052  100.538738  Private room      \n",
       "15851  Phakhamon   Ratchathewi   13.753169  100.538700  Private room      \n",
       "15852  Phakhamon   Ratchathewi   13.754789  100.538757  Private room      \n",
       "15853  Phakhamon   Ratchathewi   13.752960  100.540820  Private room      \n",
       "\n",
       "       price  minimum_nights  number_of_reviews last_review  \\\n",
       "0      1905   3               65                 2020-01-06   \n",
       "1      1316   1               0                  NaN          \n",
       "2      800    60              0                  NaN          \n",
       "3      1286   7               2                  2022-04-01   \n",
       "4      1905   1               0                  NaN          \n",
       "...     ...  ..              ..                  ...          \n",
       "15849  2298   28              0                  NaN          \n",
       "15850  1429   1               0                  NaN          \n",
       "15851  1214   1               0                  NaN          \n",
       "15852  1214   1               0                  NaN          \n",
       "15853  1214   1               0                  NaN          \n",
       "\n",
       "       reviews_per_month  calculated_host_listings_count  availability_365  \\\n",
       "0      0.50               2                               353                \n",
       "1     NaN                 2                               358                \n",
       "2     NaN                 1                               365                \n",
       "3      0.03               1                               323                \n",
       "4     NaN                 3                               365                \n",
       "...    ..                ..                               ...                \n",
       "15849 NaN                 1                               362                \n",
       "15850 NaN                 14                              365                \n",
       "15851 NaN                 14                              365                \n",
       "15852 NaN                 14                              365                \n",
       "15853 NaN                 14                              365                \n",
       "\n",
       "       number_of_reviews_ltm  \n",
       "0      0                      \n",
       "1      0                      \n",
       "2      0                      \n",
       "3      1                      \n",
       "4      0                      \n",
       "...   ..                      \n",
       "15849  0                      \n",
       "15850  0                      \n",
       "15851  0                      \n",
       "15852  0                      \n",
       "15853  0                      \n",
       "\n",
       "[15854 rows x 17 columns]"
      ]
     },
     "execution_count": 128,
     "metadata": {},
     "output_type": "execute_result"
    }
   ],
   "source": [
    "# Preview dataframe\n",
    "df"
   ]
  },
  {
   "cell_type": "markdown",
   "metadata": {},
   "source": [
    "## Data Understanding"
   ]
  },
  {
   "cell_type": "markdown",
   "metadata": {},
   "source": [
    "Alangkah baiknya jika data yang dianalisis merupakan data yang bersih dari kolom-kolom yang tidak dibutuhkan, entri yang kosong, dan data anomali. Akan tetapi, hal yang terlebih dahulu dilakukan adalah memahami data (yang diperoleh dari sumber .csv)"
   ]
  },
  {
   "cell_type": "code",
   "execution_count": 129,
   "metadata": {},
   "outputs": [
    {
     "name": "stdout",
     "output_type": "stream",
     "text": [
      "<class 'pandas.core.frame.DataFrame'>\n",
      "RangeIndex: 15854 entries, 0 to 15853\n",
      "Data columns (total 17 columns):\n",
      " #   Column                          Non-Null Count  Dtype  \n",
      "---  ------                          --------------  -----  \n",
      " 0   Unnamed: 0                      15854 non-null  int64  \n",
      " 1   id                              15854 non-null  int64  \n",
      " 2   name                            15846 non-null  object \n",
      " 3   host_id                         15854 non-null  int64  \n",
      " 4   host_name                       15853 non-null  object \n",
      " 5   neighbourhood                   15854 non-null  object \n",
      " 6   latitude                        15854 non-null  float64\n",
      " 7   longitude                       15854 non-null  float64\n",
      " 8   room_type                       15854 non-null  object \n",
      " 9   price                           15854 non-null  int64  \n",
      " 10  minimum_nights                  15854 non-null  int64  \n",
      " 11  number_of_reviews               15854 non-null  int64  \n",
      " 12  last_review                     10064 non-null  object \n",
      " 13  reviews_per_month               10064 non-null  float64\n",
      " 14  calculated_host_listings_count  15854 non-null  int64  \n",
      " 15  availability_365                15854 non-null  int64  \n",
      " 16  number_of_reviews_ltm           15854 non-null  int64  \n",
      "dtypes: float64(3), int64(9), object(5)\n",
      "memory usage: 2.1+ MB\n"
     ]
    }
   ],
   "source": [
    "# Tipe data setiap kolom\n",
    "df.info()"
   ]
  },
  {
   "cell_type": "markdown",
   "metadata": {},
   "source": [
    "Informasi tipe data di atas menyatakan bahwa hampir semua kolom telah memiliki tipe data yang sesuai (di luar data anomali). Lebih lanjut, "
   ]
  },
  {
   "cell_type": "code",
   "execution_count": 130,
   "metadata": {},
   "outputs": [
    {
     "data": {
      "text/html": [
       "<div>\n",
       "<style scoped>\n",
       "    .dataframe tbody tr th:only-of-type {\n",
       "        vertical-align: middle;\n",
       "    }\n",
       "\n",
       "    .dataframe tbody tr th {\n",
       "        vertical-align: top;\n",
       "    }\n",
       "\n",
       "    .dataframe thead th {\n",
       "        text-align: right;\n",
       "    }\n",
       "</style>\n",
       "<table border=\"1\" class=\"dataframe\">\n",
       "  <thead>\n",
       "    <tr style=\"text-align: right;\">\n",
       "      <th></th>\n",
       "      <th>Unnamed: 0</th>\n",
       "      <th>id</th>\n",
       "      <th>host_id</th>\n",
       "      <th>latitude</th>\n",
       "      <th>longitude</th>\n",
       "      <th>price</th>\n",
       "      <th>minimum_nights</th>\n",
       "      <th>number_of_reviews</th>\n",
       "      <th>reviews_per_month</th>\n",
       "      <th>calculated_host_listings_count</th>\n",
       "      <th>availability_365</th>\n",
       "      <th>number_of_reviews_ltm</th>\n",
       "    </tr>\n",
       "  </thead>\n",
       "  <tbody>\n",
       "    <tr>\n",
       "      <th>count</th>\n",
       "      <td>15854.000000</td>\n",
       "      <td>1.585400e+04</td>\n",
       "      <td>1.585400e+04</td>\n",
       "      <td>15854.000000</td>\n",
       "      <td>15854.000000</td>\n",
       "      <td>1.585400e+04</td>\n",
       "      <td>15854.000000</td>\n",
       "      <td>15854.000000</td>\n",
       "      <td>10064.000000</td>\n",
       "      <td>15854.000000</td>\n",
       "      <td>15854.000000</td>\n",
       "      <td>15854.000000</td>\n",
       "    </tr>\n",
       "    <tr>\n",
       "      <th>mean</th>\n",
       "      <td>7926.500000</td>\n",
       "      <td>1.579397e+17</td>\n",
       "      <td>1.541058e+08</td>\n",
       "      <td>13.745144</td>\n",
       "      <td>100.559903</td>\n",
       "      <td>3.217704e+03</td>\n",
       "      <td>15.292355</td>\n",
       "      <td>16.654157</td>\n",
       "      <td>0.813145</td>\n",
       "      <td>13.889618</td>\n",
       "      <td>244.378643</td>\n",
       "      <td>3.481519</td>\n",
       "    </tr>\n",
       "    <tr>\n",
       "      <th>std</th>\n",
       "      <td>4576.799919</td>\n",
       "      <td>2.946015e+17</td>\n",
       "      <td>1.318726e+08</td>\n",
       "      <td>0.043040</td>\n",
       "      <td>0.050911</td>\n",
       "      <td>2.497212e+04</td>\n",
       "      <td>50.815020</td>\n",
       "      <td>40.613331</td>\n",
       "      <td>1.090196</td>\n",
       "      <td>30.269848</td>\n",
       "      <td>125.843224</td>\n",
       "      <td>8.916937</td>\n",
       "    </tr>\n",
       "    <tr>\n",
       "      <th>min</th>\n",
       "      <td>0.000000</td>\n",
       "      <td>2.793400e+04</td>\n",
       "      <td>5.892000e+04</td>\n",
       "      <td>13.527300</td>\n",
       "      <td>100.329550</td>\n",
       "      <td>0.000000e+00</td>\n",
       "      <td>1.000000</td>\n",
       "      <td>0.000000</td>\n",
       "      <td>0.010000</td>\n",
       "      <td>1.000000</td>\n",
       "      <td>0.000000</td>\n",
       "      <td>0.000000</td>\n",
       "    </tr>\n",
       "    <tr>\n",
       "      <th>25%</th>\n",
       "      <td>3963.250000</td>\n",
       "      <td>2.104509e+07</td>\n",
       "      <td>3.974431e+07</td>\n",
       "      <td>13.720090</td>\n",
       "      <td>100.529690</td>\n",
       "      <td>9.000000e+02</td>\n",
       "      <td>1.000000</td>\n",
       "      <td>0.000000</td>\n",
       "      <td>0.120000</td>\n",
       "      <td>1.000000</td>\n",
       "      <td>138.000000</td>\n",
       "      <td>0.000000</td>\n",
       "    </tr>\n",
       "    <tr>\n",
       "      <th>50%</th>\n",
       "      <td>7926.500000</td>\n",
       "      <td>3.503734e+07</td>\n",
       "      <td>1.224556e+08</td>\n",
       "      <td>13.738490</td>\n",
       "      <td>100.561415</td>\n",
       "      <td>1.429000e+03</td>\n",
       "      <td>1.000000</td>\n",
       "      <td>2.000000</td>\n",
       "      <td>0.435000</td>\n",
       "      <td>4.000000</td>\n",
       "      <td>309.000000</td>\n",
       "      <td>0.000000</td>\n",
       "    </tr>\n",
       "    <tr>\n",
       "      <th>75%</th>\n",
       "      <td>11889.750000</td>\n",
       "      <td>5.256154e+07</td>\n",
       "      <td>2.390547e+08</td>\n",
       "      <td>13.759497</td>\n",
       "      <td>100.585150</td>\n",
       "      <td>2.429000e+03</td>\n",
       "      <td>7.000000</td>\n",
       "      <td>13.000000</td>\n",
       "      <td>1.060000</td>\n",
       "      <td>13.000000</td>\n",
       "      <td>360.000000</td>\n",
       "      <td>3.000000</td>\n",
       "    </tr>\n",
       "    <tr>\n",
       "      <th>max</th>\n",
       "      <td>15853.000000</td>\n",
       "      <td>7.908162e+17</td>\n",
       "      <td>4.926659e+08</td>\n",
       "      <td>13.953540</td>\n",
       "      <td>100.923440</td>\n",
       "      <td>1.100000e+06</td>\n",
       "      <td>1125.000000</td>\n",
       "      <td>1224.000000</td>\n",
       "      <td>19.130000</td>\n",
       "      <td>228.000000</td>\n",
       "      <td>365.000000</td>\n",
       "      <td>325.000000</td>\n",
       "    </tr>\n",
       "  </tbody>\n",
       "</table>\n",
       "</div>"
      ],
      "text/plain": [
       "         Unnamed: 0            id       host_id      latitude     longitude  \\\n",
       "count  15854.000000  1.585400e+04  1.585400e+04  15854.000000  15854.000000   \n",
       "mean   7926.500000   1.579397e+17  1.541058e+08  13.745144     100.559903     \n",
       "std    4576.799919   2.946015e+17  1.318726e+08  0.043040      0.050911       \n",
       "min    0.000000      2.793400e+04  5.892000e+04  13.527300     100.329550     \n",
       "25%    3963.250000   2.104509e+07  3.974431e+07  13.720090     100.529690     \n",
       "50%    7926.500000   3.503734e+07  1.224556e+08  13.738490     100.561415     \n",
       "75%    11889.750000  5.256154e+07  2.390547e+08  13.759497     100.585150     \n",
       "max    15853.000000  7.908162e+17  4.926659e+08  13.953540     100.923440     \n",
       "\n",
       "              price  minimum_nights  number_of_reviews  reviews_per_month  \\\n",
       "count  1.585400e+04  15854.000000    15854.000000       10064.000000        \n",
       "mean   3.217704e+03  15.292355       16.654157          0.813145            \n",
       "std    2.497212e+04  50.815020       40.613331          1.090196            \n",
       "min    0.000000e+00  1.000000        0.000000           0.010000            \n",
       "25%    9.000000e+02  1.000000        0.000000           0.120000            \n",
       "50%    1.429000e+03  1.000000        2.000000           0.435000            \n",
       "75%    2.429000e+03  7.000000        13.000000          1.060000            \n",
       "max    1.100000e+06  1125.000000     1224.000000        19.130000           \n",
       "\n",
       "       calculated_host_listings_count  availability_365  number_of_reviews_ltm  \n",
       "count  15854.000000                    15854.000000      15854.000000           \n",
       "mean   13.889618                       244.378643        3.481519               \n",
       "std    30.269848                       125.843224        8.916937               \n",
       "min    1.000000                        0.000000          0.000000               \n",
       "25%    1.000000                        138.000000        0.000000               \n",
       "50%    4.000000                        309.000000        0.000000               \n",
       "75%    13.000000                       360.000000        3.000000               \n",
       "max    228.000000                      365.000000        325.000000             "
      ]
     },
     "execution_count": 130,
     "metadata": {},
     "output_type": "execute_result"
    }
   ],
   "source": [
    "# Deskripsi data bertipe numerik\n",
    "df.describe()"
   ]
  },
  {
   "cell_type": "code",
   "execution_count": 131,
   "metadata": {},
   "outputs": [
    {
     "data": {
      "text/html": [
       "<div>\n",
       "<style scoped>\n",
       "    .dataframe tbody tr th:only-of-type {\n",
       "        vertical-align: middle;\n",
       "    }\n",
       "\n",
       "    .dataframe tbody tr th {\n",
       "        vertical-align: top;\n",
       "    }\n",
       "\n",
       "    .dataframe thead th {\n",
       "        text-align: right;\n",
       "    }\n",
       "</style>\n",
       "<table border=\"1\" class=\"dataframe\">\n",
       "  <thead>\n",
       "    <tr style=\"text-align: right;\">\n",
       "      <th></th>\n",
       "      <th>name</th>\n",
       "      <th>host_name</th>\n",
       "      <th>neighbourhood</th>\n",
       "      <th>room_type</th>\n",
       "      <th>last_review</th>\n",
       "    </tr>\n",
       "  </thead>\n",
       "  <tbody>\n",
       "    <tr>\n",
       "      <th>count</th>\n",
       "      <td>15846</td>\n",
       "      <td>15853</td>\n",
       "      <td>15854</td>\n",
       "      <td>15854</td>\n",
       "      <td>10064</td>\n",
       "    </tr>\n",
       "    <tr>\n",
       "      <th>unique</th>\n",
       "      <td>14794</td>\n",
       "      <td>5312</td>\n",
       "      <td>50</td>\n",
       "      <td>4</td>\n",
       "      <td>1669</td>\n",
       "    </tr>\n",
       "    <tr>\n",
       "      <th>top</th>\n",
       "      <td>New!  La Chada Night Market studio 2PPL near MRT</td>\n",
       "      <td>Curry</td>\n",
       "      <td>Vadhana</td>\n",
       "      <td>Entire home/apt</td>\n",
       "      <td>2022-12-11</td>\n",
       "    </tr>\n",
       "    <tr>\n",
       "      <th>freq</th>\n",
       "      <td>45</td>\n",
       "      <td>228</td>\n",
       "      <td>2153</td>\n",
       "      <td>8912</td>\n",
       "      <td>189</td>\n",
       "    </tr>\n",
       "  </tbody>\n",
       "</table>\n",
       "</div>"
      ],
      "text/plain": [
       "                                                    name host_name  \\\n",
       "count   15846                                             15853      \n",
       "unique  14794                                             5312       \n",
       "top     New!  La Chada Night Market studio 2PPL near MRT  Curry      \n",
       "freq    45                                                228        \n",
       "\n",
       "       neighbourhood        room_type last_review  \n",
       "count   15854         15854            10064       \n",
       "unique  50            4                1669        \n",
       "top     Vadhana       Entire home/apt  2022-12-11  \n",
       "freq    2153          8912             189         "
      ]
     },
     "execution_count": 131,
     "metadata": {},
     "output_type": "execute_result"
    }
   ],
   "source": [
    "# Deskripsi data bertipe object\n",
    "df.describe(include='object')"
   ]
  },
  {
   "cell_type": "code",
   "execution_count": 132,
   "metadata": {},
   "outputs": [
    {
     "data": {
      "text/html": [
       "<div>\n",
       "<style scoped>\n",
       "    .dataframe tbody tr th:only-of-type {\n",
       "        vertical-align: middle;\n",
       "    }\n",
       "\n",
       "    .dataframe tbody tr th {\n",
       "        vertical-align: top;\n",
       "    }\n",
       "\n",
       "    .dataframe thead th {\n",
       "        text-align: right;\n",
       "    }\n",
       "</style>\n",
       "<table border=\"1\" class=\"dataframe\">\n",
       "  <thead>\n",
       "    <tr style=\"text-align: right;\">\n",
       "      <th></th>\n",
       "      <th>Column Name</th>\n",
       "      <th>Number of Unique</th>\n",
       "      <th>Unique Sample</th>\n",
       "    </tr>\n",
       "  </thead>\n",
       "  <tbody>\n",
       "    <tr>\n",
       "      <th>0</th>\n",
       "      <td>Unnamed: 0</td>\n",
       "      <td>15854</td>\n",
       "      <td>[0, 1, 2, 3, 4, 5, 6, 7, 8, 9, 10, 11, 12, 13, 14, 15, 16, 17, 18, 19, 20, 21, 22, 23, 24, 25, 26, 27, 28, 29, 30, 31, 32, 33, 34, 35, 36, 37, 38, 39, 40, 41, 42, 43, 44, 45, 46, 47, 48, 49, 50, 51, 52, 53, 54, 55, 56, 57, 58, 59, 60, 61, 62, 63, 64, 65, 66, 67, 68, 69, 70, 71, 72, 73, 74, 75, 76, 77, 78, 79, 80, 81, 82, 83, 84, 85, 86, 87, 88, 89, 90, 91, 92, 93, 94, 95, 96, 97, 98, 99, ...]</td>\n",
       "    </tr>\n",
       "    <tr>\n",
       "      <th>1</th>\n",
       "      <td>id</td>\n",
       "      <td>15854</td>\n",
       "      <td>[27934, 27979, 28745, 35780, 941865, 1704776, 48736, 1738669, 1744248, 952677, 55681, 1765918, 55686, 59221, 959254, 62217, 1791481, 66046, 105042, 1793000, 960858, 113744, 965722, 1808600, 118118, 1816517, 969792, 121410, 145343, 973830, 156583, 1823321, 159854, 976690, 978531, 166267, 169285, 978969, 1842066, 169514, 1849029, 1862089, 985743, 988373, 172332, 1016487, 1862331, 1862377, 185364, 1887544, 1888303, 1019241, 241416, 1026451, 1028469, 1028486, 1035589, 1035640, 1897982, 296960, 1898332, 1041976, 313459, 1052180, 1926489, 320014, 1933894, 1057173, 1060320, 384924, 1067748, 1077493, 1943048, 385130, 385278, 385979, 390611, 1947314, 1079039, 1086843, 393066, 397449, 405662, 1088343, 1094136, 1961981, 407381, 1975849, 1133843, 413824, 428360, 428421, 428907, 428950, 430691, 430703, 430706, 432004, 439051, 1138679, ...]</td>\n",
       "    </tr>\n",
       "    <tr>\n",
       "      <th>2</th>\n",
       "      <td>name</td>\n",
       "      <td>14794</td>\n",
       "      <td>[Nice room with superb city view, Easy going landlord,easy place, modern-style apartment in Bangkok, Spacious one bedroom at The Kris Condo Bldg. 3, Suite Room 3 at MetroPoint, NEw Pro!!  Bungalow Bkk Centre, Condo with Chaopraya River View, 1 chic bedroom apartment in BKK, Batcave, Pool view, near Chatuchak, Standard Room Decor do Hostel, Sathorn Terrace Apartment(61), 2BR apt in a cozy neighborhood, Comfy bedroom near River pier &amp; BTS  Taksin., budget hotel bangkok near subway, Deluxe Condo, Nana, Pool/GYM/Sauna, Luxury@swimpool/FreeWiFi/nearJJMkt, Nice and Quiet condo near BTS Onnut, 24Flr- 1br Apt near JJ, MRT, BTS, Central Bangkok 3 Bedroom Apartment, The Duplex - Asoke- Luxury 92sqm, New, Stylish &amp; Luxury Studio Condo, River View - Ivy Condo (1 Bedroom), Siamese Gioia on Sukhumvit 31, Contemporary Modern Duplex-Thong Lo, Pan Dao Condo 5 min from BTS On Nut, 1 BR condominium center BKK +NETFLIX+55SQM, 1 penthouse in central Bangkok, MetroPoint Suite Room, Near Airport, Boutique Rooms Near Bangkok Airport, BangLuang House1 @ Bangkok Thailand, Studio near Chula University/Silom walk to MRT/BTS, กรองทองแมนชั่น (ลาดพร้าว 81), Deluxe one Bedroom Condo w.Pool-GYM &amp; Sauna 8-7, Beautiful 1 BR apartment @BTS Ari, Urban Oasis in the heart of Bangkok, 1Bed apt. near Chula University/Silom, Stay at the ROARING RATCHADA!, 60 m2 apartment in Thong Lor, Bangkok, ICONSIAM River view  on 49th floor, 2br apt in Sukhumvit Asoke near BTS, Self catering cozy1-bed near BTS, ❂☀☀☀Perfect Escape☀☀☀Sunny Roof EnSuite☀☀☀☀, Room with city view of BKK, BangLuang House 2@ Bangkok Thailand, Tranquility found in busy Bangkok near new skytran, Private room in Bangkok, ☞✪✪✪✪Roomy Studio 4 Family r friends✪No Stairs✪✪✪✪, ☞Downtown Central Studio-Bangkok MRT, Beautiful Wood Bangkok Resort House, \"Serviced 2 Bed Scenic SkyVillas\", Cozy 1BR rooftop (BTS Ploenchit) heart of bangkok, Chic two bedroom for Monthly rental, Sukhumvit52 near SkyTrain to BkkCBD, ♡Chic Studio, Easy Walk to Pier &amp; BTS Taksin♡, One Bedroom Suite- WIFI- SATHORN, STUDIO RM2 - WIFI- SATHORN, Quiet Double  Bed Apartment, Quiet Double Bed Apartment, Suvarnabhumi free transfer, Luxury&amp;Comfy wthWifi walk-distance to Subwy-Malls, Apr. for rent full fur 1 bedroom, monthly, Long-stay special rate spacious entire floor Siam, One Bed Room at Sukumvit 50 Bangkok, City View, relaxed theme &amp; delicious food around, Ideo Blucove Sukhumvit Bangkok, 2-BR condo near BTS on Sukhumvit Rd, NewlyRenovated! 3Br,SingleHouse, Park/BTS/Airport., IdeoMix, Sukhumvit RD, close to BTS, Mix Dorm  Decor do Hostel, Oasis in the heart of Bangkok, 5 mins by car from Chong Nonsi BTS Station, Inn Saladaeng - Superior hotel room, Best nr Chatujak, MRT, BTS free wifi&amp;fNetflix, ❂Citycenter✔Subway station✔Private Bathroom4Aircon, Nice River View Condominium 30 sq.m, Monthly rent 2Beds/2Baths quiet APT at BTS, Sukhumvit apartment near Nana BTS, A room w/ the view :-) in the city, Spacious 1Bed apartment, Near Bangkok more space than urban!, ✺✺99 feet in the sky✺✺, Cozy Studio Apt near Skytrain.(72/74), Asoke: tasteful, modern 1BR condo, 2 bed 2 bath, BTS, Supermarkets, Monthly, Private, relaxed with amenities, S1 hostel (Dorm) Sathorn Bangkok, 3 minutes walk to Phrom Phong BTS, 1 BDM CONDO SAPHAN KWAI/ARI walk to JJ/BTS/MRT, เฮ้าส์โหมด House Mode, ❂100% Private&amp;Central Light EnSuite, Spacious Studio kitchen/wifi, 2. Bangkok bright Apartment 201, 1.Bangkok great value Studio WIFI, BKK City Fab Luxx Studio free wifi @1194, 5. Bangkok Bright Apartment -WIFI, 6. Bangkok nice, cosy Apartment 201, 7. Bangkok big bright Apartment 402, STUDIO-WIFI-RAIN SHOWER-SATHORN, Luxury Riverview Teakwood Apartment-Great Views :), 1 Bed Pool Access Onnut BTS, ...]</td>\n",
       "    </tr>\n",
       "    <tr>\n",
       "      <th>3</th>\n",
       "      <td>host_id</td>\n",
       "      <td>6659</td>\n",
       "      <td>[120437, 120541, 123784, 153730, 610315, 2129668, 222005, 7045870, 9181769, 5171292, 263049, 9279712, 284095, 5153476, 302658, 9399478, 323158, 545890, 9407280, 3769704, 578110, 5265861, 9478184, 596463, 8492603, 5297436, 703944, 5325919, 58920, 9545111, 766443, 5344120, 5309669, 806600, 5358785, 9626074, 729617, 9652914, 1927968, 822284, 5594281, 8214044, 889670, 6132593, 9821998, 3323622, 960892, 3346331, 2148220, 4115838, 8362130, 175729, 4837310, 5735895, 1611711, 5793490, 9434109, 843854, 9509219, 5822937, 1667508, 4154759, 5929404, 9906827, 1928343, 1681901, 807406, 10070953, 5935474, 4937984, 1425515, 5981006, 10138065, 1463818, 8480912, 6220137, 2122791, 4877320, 10204823, 2592798, 10222460, 10246374, 7454779, 8664261, 6262801, 6313832, 1513875, 5402740, 2625384, 6586465, 9390848, 2864425, 10581237, 1780407, 6647138, 6648722, 2940438, 3533863, 3687435, 5469059, ...]</td>\n",
       "    </tr>\n",
       "    <tr>\n",
       "      <th>4</th>\n",
       "      <td>host_name</td>\n",
       "      <td>5312</td>\n",
       "      <td>[Nuttee, Emy, Familyroom, Sirilak, Kasem, Wimonpak, Athitaya, Jiraporn, Nol, Somsak, Tor, Jing, Mimi, Natcha, Srisuk, Piyakorn, Sue, Henry, Timo, Pat, Muay, Chuchart, Shine, Dustin, Sudhichai, Anya, Parinya, วสวัตติ์, Gael, Penjit, Gerd, Nattavut, Apiradee, Frances, Danny, Weera, Kanchuya, Jirasak, Evan, Rae And Charlie, Yodying, Evan From Sanctuary House, Narumon, Salvatore, Pichanee, Phoebe, Vajirune, Bee, Marvin, Primrose, Luckana, Mitch &amp; Mam, Veesa, Pariya, Nichapat, Nicky, Sander, Anshera, Piya, Siriwipa, Inn Saladaeng &amp; The Sathon Vimanda, Nokiko, Chanvit, Pornpan, Hollis, Vichit, Tisa, Sugarcane, Peter, Sibyl, S1, Amporn, Chris And Lek, Prapussorn, Maam &amp; Hermann, Nisa, Jahidul, Nokina, Preeda, Arika, Lily Duangdao, Kriengkrai, Andrea, Psirivedin, Suchada, Nattha, Mike, Tayawat, VeeZa, Urcha, Anchana, Feb, NiNew, Taweewat  (Ken), Kinifrog, Sarasinee, Avinash, Andrew, Tam, Egidio, ...]</td>\n",
       "    </tr>\n",
       "    <tr>\n",
       "      <th>5</th>\n",
       "      <td>neighbourhood</td>\n",
       "      <td>50</td>\n",
       "      <td>[Ratchathewi, Bang Na, Bang Kapi, Din Daeng, Bang Kho laen, Rat Burana, Chatu Chak, Khlong San, Bang Rak, Phaya Thai, Sathon, Khlong Toei, Vadhana, Sai Mai, Lat Krabang, Bangkok Yai, Wang Thong Lang, Huai Khwang, Phasi Charoen, Bang Sue, Nong Chok, Phra Khanong, Thawi Watthana, Parthum Wan, Pra Wet, Phra Nakhon, Thon buri, Yan na wa, Suanluang, Don Mueang, Dusit, Lak Si, Samphanthawong, Bueng Kum, Bang Phlat, Saphan Sung, Min Buri, Khan Na Yao, Khlong Sam Wa, Bang Khen, Lat Phrao, Chom Thong, Bangkok Noi, Pom Prap Sattru Phai, Nong Khaem, Thung khru, Bang Khae, Bang Khun thain, Taling Chan, Bang Bon]</td>\n",
       "    </tr>\n",
       "    <tr>\n",
       "      <th>6</th>\n",
       "      <td>latitude</td>\n",
       "      <td>9606</td>\n",
       "      <td>[13.75983, 13.66818, 13.75232, 13.78823, 13.76872, 13.69757, 13.68556, 13.82925, 13.81693, 13.7204, 13.71934, 13.77486, 13.71802, 13.77941, 13.71516, 13.79152, 13.70719, 13.82298, 13.73378, 13.74668, 13.9077, 13.68568, 13.74444, 13.72097, 13.70441, 13.75351, 13.7547, 13.76747, 13.721868, 13.73292, 13.7285, 13.78938, 13.74293, 13.77931, 13.72291, 13.72733, 13.78118, 13.73224, 13.72287, 13.74464, 13.7137, 13.72062, 13.71803, 13.73122, 13.83148, 13.82148, 13.72073, 13.72063, 13.779, 13.72096, 13.73782, 13.72687, 13.70169, 13.71192, 13.71602, 13.71798, 13.79274, 13.79315, 13.72141, 13.80926, 13.67805, 13.74814, 13.71513, 13.69947, 13.67998, 13.7281, 13.70004, 13.67991, 13.72214, 13.74902, 13.71498, 13.72825, 13.81694, 13.68426, 13.71905, 13.74052, 13.71012, 13.75224, 13.75135, 13.71782, 13.73816, 13.7104, 13.69949, 13.72157, 13.73675, 13.79128, 13.72646255738608, 13.69673, 13.69935, 13.69977, 13.698, 13.70068, 13.69925, 13.70086, 13.71922, 13.67317, 13.71119, 13.70497, 13.69832, 13.70218, ...]</td>\n",
       "    </tr>\n",
       "    <tr>\n",
       "      <th>7</th>\n",
       "      <td>longitude</td>\n",
       "      <td>10224</td>\n",
       "      <td>[100.54134, 100.61674, 100.62402, 100.57256, 100.63338, 100.5288, 100.49535, 100.56737, 100.56433, 100.50757, 100.5176, 100.54272, 100.51539, 100.57383, 100.56806, 100.53982, 100.59936, 100.56484, 100.56303, 100.56137, 100.64473, 100.49231, 100.57003, 100.57823, 100.59968, 100.53308, 100.53268, 100.63287, 100.771713, 100.46413, 100.52313, 100.6134, 100.55603, 100.54262, 100.53759, 100.52555, 100.58349, 100.57803, 100.51678, 100.55784, 100.59637, 100.54707, 100.54654, 100.46228, 100.52102, 100.58326, 100.5469, 100.54694, 100.83671, 100.52911, 100.55179, 100.52725, 100.5977, 100.51535, 100.52663, 100.52841, 100.33377, 100.33356, 100.72946, 100.56892, 100.62451, 100.52016, 100.5683, 100.52726, 100.61074, 100.57318, 100.6787, 100.61055, 100.50752, 100.55652, 100.53312, 100.53774, 100.56451, 100.49841, 100.50414, 100.55237, 100.60281, 100.58979, 100.49447, 100.51622, 100.56495, 100.60171, 100.54509, 100.57191, 100.54935, 100.49129336748284, 100.53202, 100.52723, 100.52652, 100.52886, 100.5228, 100.52624, 100.52276, 100.5255, 100.54406, 100.63334, 100.55134, 100.52434, 100.52254, 100.52806, ...]</td>\n",
       "    </tr>\n",
       "    <tr>\n",
       "      <th>8</th>\n",
       "      <td>room_type</td>\n",
       "      <td>4</td>\n",
       "      <td>[Entire home/apt, Private room, Hotel room, Shared room]</td>\n",
       "    </tr>\n",
       "    <tr>\n",
       "      <th>9</th>\n",
       "      <td>price</td>\n",
       "      <td>3040</td>\n",
       "      <td>[1905, 1316, 800, 1286, 1000, 1558, 1461, 700, 1150, 1893, 1862, 910, 1400, 4156, 1577, 122594, 5680, 5034, 1500, 1385, 3775, 2078, 1732, 2000, 3082, 1190, 1329, 1176, 600, 1659, 5429, 1843, 1870, 2500, 1300, 1200, 3500, 1795, 350, 1450, 8658, 3757, 1490, 2701, 2251, 866, 2696, 1736, 1800, 900, 400, 2900, 2226, 890, 3394, 922, 1543, 1589, 1271, 1747, 797, 6926, 1169, 5195, 829, 950, 2355, 980, 330, 3740, 1143, 831, 790, 720, 1211, 970, 929, 670, 1004, 811, 1629, 835, 926, 650, 5887, 1250, 2571, 3847, 1485, 2814, 707, 2061, 750, 693, 1088, 808, 500, 3097, 850, 1212, ...]</td>\n",
       "    </tr>\n",
       "    <tr>\n",
       "      <th>10</th>\n",
       "      <td>minimum_nights</td>\n",
       "      <td>86</td>\n",
       "      <td>[3, 1, 60, 7, 250, 2, 15, 30, 28, 21, 27, 4, 180, 90, 5, 358, 1125, 29, 14, 200, 365, 120, 9, 12, 300, 360, 100, 10, 45, 23, 6, 84, 370, 24, 31, 50, 19, 20, 75, 8, 25, 40, 26, 59, 58, 170, 399, 998, 13, 22, 356, 16, 183, 700, 150, 35, 355, 500, 89, 80, 18, 11, 85, 135, 198, 88, 160, 109, 148, 51, 1115, 113, 62, 450, 270, 55, 208, 1000, 17, 999, 400, 99, 1095, 39, 190, 364]</td>\n",
       "    </tr>\n",
       "    <tr>\n",
       "      <th>11</th>\n",
       "      <td>number_of_reviews</td>\n",
       "      <td>298</td>\n",
       "      <td>[65, 0, 2, 19, 1, 10, 4, 27, 129, 208, 3, 78, 9, 148, 287, 83, 76, 28, 63, 212, 90, 71, 5, 15, 7, 419, 95, 21, 268, 310, 118, 11, 104, 472, 43, 56, 295, 29, 67, 170, 12, 94, 40, 36, 293, 396, 80, 189, 430, 39, 32, 18, 82, 325, 35, 14, 127, 26, 48, 8, 120, 60, 38, 24, 404, 6, 109, 34, 206, 271, 93, 77, 426, 224, 147, 33, 37, 58, 135, 81, 117, 146, 53, 101, 25, 97, 20, 88, 256, 278, 167, 91, 31, 113, 192, 156, 92, 75, 103, 252, ...]</td>\n",
       "    </tr>\n",
       "    <tr>\n",
       "      <th>12</th>\n",
       "      <td>last_review</td>\n",
       "      <td>1669</td>\n",
       "      <td>[2020-01-06, nan, 2022-04-01, 2017-08-03, 2014-02-03, 2016-03-29, 2019-12-27, 2019-01-03, 2022-09-30, 2019-12-02, 2018-07-30, 2019-05-31, 2020-03-04, 2020-01-07, 2022-11-22, 2018-12-24, 2018-09-12, 2013-10-09, 2018-04-05, 2022-11-25, 2019-12-31, 2022-12-08, 2022-11-15, 2018-12-18, 2022-11-30, 2019-11-10, 2015-12-08, 2022-12-07, 2022-12-15, 2019-02-20, 2022-12-11, 2018-07-02, 2020-02-20, 2014-11-12, 2022-10-25, 2020-03-03, 2019-08-04, 2021-08-21, 2022-12-18, 2022-09-20, 2022-11-28, 2022-12-05, 2020-02-08, 2022-08-31, 2022-12-09, 2022-09-01, 2022-12-06, 2020-04-30, 2020-01-28, 2019-01-13, 2022-10-01, 2022-10-31, 2020-01-04, 2022-11-26, 2019-12-09, 2022-09-14, 2020-03-14, 2019-03-04, 2018-10-24, 2013-11-01, 2022-12-14, 2016-11-05, 2022-11-13, 2013-06-28, 2017-02-23, 2020-02-28, 2013-07-01, 2022-10-30, 2018-03-31, 2022-12-12, 2018-07-22, 2022-12-16, 2022-10-23, 2019-04-13, 2019-01-01, 2019-01-22, 2021-03-15, 2021-05-17, 2022-12-20, 2013-12-03, 2015-09-02, 2015-09-01, 2016-04-08, 2022-12-13, 2019-01-04, 2012-12-15, 2015-10-18, 2022-12-04, 2020-01-10, 2022-06-17, 2022-06-19, 2020-03-15, 2015-01-01, 2018-12-05, 2018-04-30, 2022-11-18, 2022-11-11, 2022-10-07, 2013-08-18, 2017-06-19, ...]</td>\n",
       "    </tr>\n",
       "    <tr>\n",
       "      <th>13</th>\n",
       "      <td>reviews_per_month</td>\n",
       "      <td>513</td>\n",
       "      <td>[0.5, nan, 0.03, 0.17, 0.01, 0.09, 0.19, 1.17, 1.44, 0.02, 0.78, 1.08, 2.59, 0.05, 0.75, 0.7, 0.28, 0.64, 0.47, 1.58, 0.77, 0.54, 0.14, 0.06, 3.77, 0.8, 3.0, 1.07, 0.15, 0.89, 4.02, 0.04, 0.46, 0.39, 0.43, 2.61, 0.27, 0.51, 1.54, 0.12, 0.33, 2.72, 3.02, 0.62, 1.45, 3.39, 0.3, 0.25, 0.18, 0.83, 2.67, 0.31, 0.11, 1.0, 0.23, 0.38, 0.07, 0.93, 0.4, 3.67, 1.15, 0.41, 0.32, 1.83, 2.97, 0.95, 0.1, 1.84, 1.18, 1.03, 0.13, 0.53, 1.79, 1.19, 0.72, 1.02, 1.27, 0.2, 0.92, 0.22, 0.21, 0.08, 2.13, 2.31, 0.26, 0.29, 1.2, 1.78, 0.81, 0.96, 1.22, 2.11, 0.37, 0.71, 0.24, 1.36, 1.98, 1.12, 1.96, 2.12, ...]</td>\n",
       "    </tr>\n",
       "    <tr>\n",
       "      <th>14</th>\n",
       "      <td>calculated_host_listings_count</td>\n",
       "      <td>50</td>\n",
       "      <td>[2, 1, 3, 41, 10, 7, 6, 4, 37, 8, 19, 5, 53, 45, 13, 11, 25, 24, 36, 29, 18, 12, 9, 15, 44, 33, 39, 21, 34, 89, 32, 56, 62, 23, 14, 22, 17, 28, 16, 31, 20, 26, 228, 48, 99, 27, 30, 49, 40, 35]</td>\n",
       "    </tr>\n",
       "    <tr>\n",
       "      <th>15</th>\n",
       "      <td>availability_365</td>\n",
       "      <td>366</td>\n",
       "      <td>[353, 358, 365, 323, 87, 320, 356, 361, 330, 180, 334, 349, 364, 55, 263, 350, 95, 207, 336, 174, 156, 331, 88, 355, 363, 339, 145, 134, 16, 0, 242, 256, 59, 167, 219, 142, 149, 176, 129, 230, 301, 120, 75, 44, 270, 346, 272, 162, 347, 359, 304, 62, 82, 342, 348, 130, 154, 244, 344, 354, 317, 54, 362, 271, 255, 144, 357, 181, 236, 127, 146, 124, 221, 294, 13, 318, 56, 267, 293, 107, 360, 314, 316, 89, 57, 312, 70, 179, 10, 338, 86, 302, 321, 98, 217, 341, 90, 325, 333, 1, ...]</td>\n",
       "    </tr>\n",
       "    <tr>\n",
       "      <th>16</th>\n",
       "      <td>number_of_reviews_ltm</td>\n",
       "      <td>85</td>\n",
       "      <td>[0, 1, 3, 13, 2, 7, 5, 10, 9, 12, 29, 4, 19, 56, 20, 11, 6, 14, 8, 43, 18, 30, 15, 277, 26, 59, 21, 41, 16, 22, 25, 38, 42, 40, 31, 39, 35, 44, 17, 27, 36, 23, 79, 50, 24, 34, 47, 37, 32, 73, 48, 28, 45, 67, 46, 147, 109, 68, 62, 51, 72, 52, 49, 33, 69, 325, 55, 146, 61, 124, 75, 71, 138, 57, 70, 90, 65, 141, 246, 118, 80, 53, 63, 60, 101]</td>\n",
       "    </tr>\n",
       "  </tbody>\n",
       "</table>\n",
       "</div>"
      ],
      "text/plain": [
       "                       Column Name  Number of Unique  \\\n",
       "0   Unnamed: 0                      15854              \n",
       "1   id                              15854              \n",
       "2   name                            14794              \n",
       "3   host_id                         6659               \n",
       "4   host_name                       5312               \n",
       "5   neighbourhood                   50                 \n",
       "6   latitude                        9606               \n",
       "7   longitude                       10224              \n",
       "8   room_type                       4                  \n",
       "9   price                           3040               \n",
       "10  minimum_nights                  86                 \n",
       "11  number_of_reviews               298                \n",
       "12  last_review                     1669               \n",
       "13  reviews_per_month               513                \n",
       "14  calculated_host_listings_count  50                 \n",
       "15  availability_365                366                \n",
       "16  number_of_reviews_ltm           85                 \n",
       "\n",
       "                                                                                                                                                                                                                                                                                                                                                                                                                                                                                                                                                                                                                                                                                                                                                                                                                                                                                                                                                                                                                                                                                                                                                                                                                                                                                                                                                                                                                                                                                                                                                                                                                                                                                                                                                                                                                                                                                                                                                                                                                                                                                                                                                                                                                                                                                                                                                                                                                                                                                                                                                                                                                                                                                                                                                                                                                                                                                                                                                                                                                                                                                                                                                                                                                                                                                                                                                                                                                                                                                                                                                                                                                                                                                                                                                                                                                                                    Unique Sample  \n",
       "0   [0, 1, 2, 3, 4, 5, 6, 7, 8, 9, 10, 11, 12, 13, 14, 15, 16, 17, 18, 19, 20, 21, 22, 23, 24, 25, 26, 27, 28, 29, 30, 31, 32, 33, 34, 35, 36, 37, 38, 39, 40, 41, 42, 43, 44, 45, 46, 47, 48, 49, 50, 51, 52, 53, 54, 55, 56, 57, 58, 59, 60, 61, 62, 63, 64, 65, 66, 67, 68, 69, 70, 71, 72, 73, 74, 75, 76, 77, 78, 79, 80, 81, 82, 83, 84, 85, 86, 87, 88, 89, 90, 91, 92, 93, 94, 95, 96, 97, 98, 99, ...]                                                                                                                                                                                                                                                                                                                                                                                                                                                                                                                                                                                                                                                                                                                                                                                                                                                                                                                                                                                                                                                                                                                                                                                                                                                                                                                                                                                                                                                                                                                                                                                                                                                                                                                                                                                                                                                                                                                                                                                                                                                                                                                                                                                                                                                                                                                                                                                                                                                                                                                                                                                                                                                                                                                                                                                                                                                                                                                                                                                                                                                                                                                                                                                                                                                                                                                                                                                                                                                    \n",
       "1   [27934, 27979, 28745, 35780, 941865, 1704776, 48736, 1738669, 1744248, 952677, 55681, 1765918, 55686, 59221, 959254, 62217, 1791481, 66046, 105042, 1793000, 960858, 113744, 965722, 1808600, 118118, 1816517, 969792, 121410, 145343, 973830, 156583, 1823321, 159854, 976690, 978531, 166267, 169285, 978969, 1842066, 169514, 1849029, 1862089, 985743, 988373, 172332, 1016487, 1862331, 1862377, 185364, 1887544, 1888303, 1019241, 241416, 1026451, 1028469, 1028486, 1035589, 1035640, 1897982, 296960, 1898332, 1041976, 313459, 1052180, 1926489, 320014, 1933894, 1057173, 1060320, 384924, 1067748, 1077493, 1943048, 385130, 385278, 385979, 390611, 1947314, 1079039, 1086843, 393066, 397449, 405662, 1088343, 1094136, 1961981, 407381, 1975849, 1133843, 413824, 428360, 428421, 428907, 428950, 430691, 430703, 430706, 432004, 439051, 1138679, ...]                                                                                                                                                                                                                                                                                                                                                                                                                                                                                                                                                                                                                                                                                                                                                                                                                                                                                                                                                                                                                                                                                                                                                                                                                                                                                                                                                                                                                                                                                                                                                                                                                                                                                                                                                                                                                                                                                                                                                                                                                                                                                                                                                                                                                                                                                                                                                                                                                                                                                                                                                                                                                                                                                                                                                                                                                                                                                                                                                                                         \n",
       "2   [Nice room with superb city view, Easy going landlord,easy place, modern-style apartment in Bangkok, Spacious one bedroom at The Kris Condo Bldg. 3, Suite Room 3 at MetroPoint, NEw Pro!!  Bungalow Bkk Centre, Condo with Chaopraya River View, 1 chic bedroom apartment in BKK, Batcave, Pool view, near Chatuchak, Standard Room Decor do Hostel, Sathorn Terrace Apartment(61), 2BR apt in a cozy neighborhood, Comfy bedroom near River pier & BTS  Taksin., budget hotel bangkok near subway, Deluxe Condo, Nana, Pool/GYM/Sauna, Luxury@swimpool/FreeWiFi/nearJJMkt, Nice and Quiet condo near BTS Onnut, 24Flr- 1br Apt near JJ, MRT, BTS, Central Bangkok 3 Bedroom Apartment, The Duplex - Asoke- Luxury 92sqm, New, Stylish & Luxury Studio Condo, River View - Ivy Condo (1 Bedroom), Siamese Gioia on Sukhumvit 31, Contemporary Modern Duplex-Thong Lo, Pan Dao Condo 5 min from BTS On Nut, 1 BR condominium center BKK +NETFLIX+55SQM, 1 penthouse in central Bangkok, MetroPoint Suite Room, Near Airport, Boutique Rooms Near Bangkok Airport, BangLuang House1 @ Bangkok Thailand, Studio near Chula University/Silom walk to MRT/BTS, กรองทองแมนชั่น (ลาดพร้าว 81), Deluxe one Bedroom Condo w.Pool-GYM & Sauna 8-7, Beautiful 1 BR apartment @BTS Ari, Urban Oasis in the heart of Bangkok, 1Bed apt. near Chula University/Silom, Stay at the ROARING RATCHADA!, 60 m2 apartment in Thong Lor, Bangkok, ICONSIAM River view  on 49th floor, 2br apt in Sukhumvit Asoke near BTS, Self catering cozy1-bed near BTS, ❂☀☀☀Perfect Escape☀☀☀Sunny Roof EnSuite☀☀☀☀, Room with city view of BKK, BangLuang House 2@ Bangkok Thailand, Tranquility found in busy Bangkok near new skytran, Private room in Bangkok, ☞✪✪✪✪Roomy Studio 4 Family r friends✪No Stairs✪✪✪✪, ☞Downtown Central Studio-Bangkok MRT, Beautiful Wood Bangkok Resort House, \"Serviced 2 Bed Scenic SkyVillas\", Cozy 1BR rooftop (BTS Ploenchit) heart of bangkok, Chic two bedroom for Monthly rental, Sukhumvit52 near SkyTrain to BkkCBD, ♡Chic Studio, Easy Walk to Pier & BTS Taksin♡, One Bedroom Suite- WIFI- SATHORN, STUDIO RM2 - WIFI- SATHORN, Quiet Double  Bed Apartment, Quiet Double Bed Apartment, Suvarnabhumi free transfer, Luxury&Comfy wthWifi walk-distance to Subwy-Malls, Apr. for rent full fur 1 bedroom, monthly, Long-stay special rate spacious entire floor Siam, One Bed Room at Sukumvit 50 Bangkok, City View, relaxed theme & delicious food around, Ideo Blucove Sukhumvit Bangkok, 2-BR condo near BTS on Sukhumvit Rd, NewlyRenovated! 3Br,SingleHouse, Park/BTS/Airport., IdeoMix, Sukhumvit RD, close to BTS, Mix Dorm  Decor do Hostel, Oasis in the heart of Bangkok, 5 mins by car from Chong Nonsi BTS Station, Inn Saladaeng - Superior hotel room, Best nr Chatujak, MRT, BTS free wifi&fNetflix, ❂Citycenter✔Subway station✔Private Bathroom4Aircon, Nice River View Condominium 30 sq.m, Monthly rent 2Beds/2Baths quiet APT at BTS, Sukhumvit apartment near Nana BTS, A room w/ the view :-) in the city, Spacious 1Bed apartment, Near Bangkok more space than urban!, ✺✺99 feet in the sky✺✺, Cozy Studio Apt near Skytrain.(72/74), Asoke: tasteful, modern 1BR condo, 2 bed 2 bath, BTS, Supermarkets, Monthly, Private, relaxed with amenities, S1 hostel (Dorm) Sathorn Bangkok, 3 minutes walk to Phrom Phong BTS, 1 BDM CONDO SAPHAN KWAI/ARI walk to JJ/BTS/MRT, เฮ้าส์โหมด House Mode, ❂100% Private&Central Light EnSuite, Spacious Studio kitchen/wifi, 2. Bangkok bright Apartment 201, 1.Bangkok great value Studio WIFI, BKK City Fab Luxx Studio free wifi @1194, 5. Bangkok Bright Apartment -WIFI, 6. Bangkok nice, cosy Apartment 201, 7. Bangkok big bright Apartment 402, STUDIO-WIFI-RAIN SHOWER-SATHORN, Luxury Riverview Teakwood Apartment-Great Views :), 1 Bed Pool Access Onnut BTS, ...]  \n",
       "3   [120437, 120541, 123784, 153730, 610315, 2129668, 222005, 7045870, 9181769, 5171292, 263049, 9279712, 284095, 5153476, 302658, 9399478, 323158, 545890, 9407280, 3769704, 578110, 5265861, 9478184, 596463, 8492603, 5297436, 703944, 5325919, 58920, 9545111, 766443, 5344120, 5309669, 806600, 5358785, 9626074, 729617, 9652914, 1927968, 822284, 5594281, 8214044, 889670, 6132593, 9821998, 3323622, 960892, 3346331, 2148220, 4115838, 8362130, 175729, 4837310, 5735895, 1611711, 5793490, 9434109, 843854, 9509219, 5822937, 1667508, 4154759, 5929404, 9906827, 1928343, 1681901, 807406, 10070953, 5935474, 4937984, 1425515, 5981006, 10138065, 1463818, 8480912, 6220137, 2122791, 4877320, 10204823, 2592798, 10222460, 10246374, 7454779, 8664261, 6262801, 6313832, 1513875, 5402740, 2625384, 6586465, 9390848, 2864425, 10581237, 1780407, 6647138, 6648722, 2940438, 3533863, 3687435, 5469059, ...]                                                                                                                                                                                                                                                                                                                                                                                                                                                                                                                                                                                                                                                                                                                                                                                                                                                                                                                                                                                                                                                                                                                                                                                                                                                                                                                                                                                                                                                                                                                                                                                                                                                                                                                                                                                                                                                                                                                                                                                                                                                                                                                                                                                                                                                                                                                                                                                                                                                                                                                                                                                                                                                                                                                                                                                                                                                                                                                                         \n",
       "4   [Nuttee, Emy, Familyroom, Sirilak, Kasem, Wimonpak, Athitaya, Jiraporn, Nol, Somsak, Tor, Jing, Mimi, Natcha, Srisuk, Piyakorn, Sue, Henry, Timo, Pat, Muay, Chuchart, Shine, Dustin, Sudhichai, Anya, Parinya, วสวัตติ์, Gael, Penjit, Gerd, Nattavut, Apiradee, Frances, Danny, Weera, Kanchuya, Jirasak, Evan, Rae And Charlie, Yodying, Evan From Sanctuary House, Narumon, Salvatore, Pichanee, Phoebe, Vajirune, Bee, Marvin, Primrose, Luckana, Mitch & Mam, Veesa, Pariya, Nichapat, Nicky, Sander, Anshera, Piya, Siriwipa, Inn Saladaeng & The Sathon Vimanda, Nokiko, Chanvit, Pornpan, Hollis, Vichit, Tisa, Sugarcane, Peter, Sibyl, S1, Amporn, Chris And Lek, Prapussorn, Maam & Hermann, Nisa, Jahidul, Nokina, Preeda, Arika, Lily Duangdao, Kriengkrai, Andrea, Psirivedin, Suchada, Nattha, Mike, Tayawat, VeeZa, Urcha, Anchana, Feb, NiNew, Taweewat  (Ken), Kinifrog, Sarasinee, Avinash, Andrew, Tam, Egidio, ...]                                                                                                                                                                                                                                                                                                                                                                                                                                                                                                                                                                                                                                                                                                                                                                                                                                                                                                                                                                                                                                                                                                                                                                                                                                                                                                                                                                                                                                                                                                                                                                                                                                                                                                                                                                                                                                                                                                                                                                                                                                                                                                                                                                                                                                                                                                                                                                                                                                                                                                                                                                                                                                                                                                                                                                                                                                                                                                                      \n",
       "5   [Ratchathewi, Bang Na, Bang Kapi, Din Daeng, Bang Kho laen, Rat Burana, Chatu Chak, Khlong San, Bang Rak, Phaya Thai, Sathon, Khlong Toei, Vadhana, Sai Mai, Lat Krabang, Bangkok Yai, Wang Thong Lang, Huai Khwang, Phasi Charoen, Bang Sue, Nong Chok, Phra Khanong, Thawi Watthana, Parthum Wan, Pra Wet, Phra Nakhon, Thon buri, Yan na wa, Suanluang, Don Mueang, Dusit, Lak Si, Samphanthawong, Bueng Kum, Bang Phlat, Saphan Sung, Min Buri, Khan Na Yao, Khlong Sam Wa, Bang Khen, Lat Phrao, Chom Thong, Bangkok Noi, Pom Prap Sattru Phai, Nong Khaem, Thung khru, Bang Khae, Bang Khun thain, Taling Chan, Bang Bon]                                                                                                                                                                                                                                                                                                                                                                                                                                                                                                                                                                                                                                                                                                                                                                                                                                                                                                                                                                                                                                                                                                                                                                                                                                                                                                                                                                                                                                                                                                                                                                                                                                                                                                                                                                                                                                                                                                                                                                                                                                                                                                                                                                                                                                                                                                                                                                                                                                                                                                                                                                                                                                                                                                                                                                                                                                                                                                                                                                                                                                                                                                                                                                                                                                \n",
       "6   [13.75983, 13.66818, 13.75232, 13.78823, 13.76872, 13.69757, 13.68556, 13.82925, 13.81693, 13.7204, 13.71934, 13.77486, 13.71802, 13.77941, 13.71516, 13.79152, 13.70719, 13.82298, 13.73378, 13.74668, 13.9077, 13.68568, 13.74444, 13.72097, 13.70441, 13.75351, 13.7547, 13.76747, 13.721868, 13.73292, 13.7285, 13.78938, 13.74293, 13.77931, 13.72291, 13.72733, 13.78118, 13.73224, 13.72287, 13.74464, 13.7137, 13.72062, 13.71803, 13.73122, 13.83148, 13.82148, 13.72073, 13.72063, 13.779, 13.72096, 13.73782, 13.72687, 13.70169, 13.71192, 13.71602, 13.71798, 13.79274, 13.79315, 13.72141, 13.80926, 13.67805, 13.74814, 13.71513, 13.69947, 13.67998, 13.7281, 13.70004, 13.67991, 13.72214, 13.74902, 13.71498, 13.72825, 13.81694, 13.68426, 13.71905, 13.74052, 13.71012, 13.75224, 13.75135, 13.71782, 13.73816, 13.7104, 13.69949, 13.72157, 13.73675, 13.79128, 13.72646255738608, 13.69673, 13.69935, 13.69977, 13.698, 13.70068, 13.69925, 13.70086, 13.71922, 13.67317, 13.71119, 13.70497, 13.69832, 13.70218, ...]                                                                                                                                                                                                                                                                                                                                                                                                                                                                                                                                                                                                                                                                                                                                                                                                                                                                                                                                                                                                                                                                                                                                                                                                                                                                                                                                                                                                                                                                                                                                                                                                                                                                                                                                                                                                                                                                                                                                                                                                                                                                                                                                                                                                                                                                                                                                                                                                                                                                                                                                                                                                                                                                                                                                                                                                                   \n",
       "7   [100.54134, 100.61674, 100.62402, 100.57256, 100.63338, 100.5288, 100.49535, 100.56737, 100.56433, 100.50757, 100.5176, 100.54272, 100.51539, 100.57383, 100.56806, 100.53982, 100.59936, 100.56484, 100.56303, 100.56137, 100.64473, 100.49231, 100.57003, 100.57823, 100.59968, 100.53308, 100.53268, 100.63287, 100.771713, 100.46413, 100.52313, 100.6134, 100.55603, 100.54262, 100.53759, 100.52555, 100.58349, 100.57803, 100.51678, 100.55784, 100.59637, 100.54707, 100.54654, 100.46228, 100.52102, 100.58326, 100.5469, 100.54694, 100.83671, 100.52911, 100.55179, 100.52725, 100.5977, 100.51535, 100.52663, 100.52841, 100.33377, 100.33356, 100.72946, 100.56892, 100.62451, 100.52016, 100.5683, 100.52726, 100.61074, 100.57318, 100.6787, 100.61055, 100.50752, 100.55652, 100.53312, 100.53774, 100.56451, 100.49841, 100.50414, 100.55237, 100.60281, 100.58979, 100.49447, 100.51622, 100.56495, 100.60171, 100.54509, 100.57191, 100.54935, 100.49129336748284, 100.53202, 100.52723, 100.52652, 100.52886, 100.5228, 100.52624, 100.52276, 100.5255, 100.54406, 100.63334, 100.55134, 100.52434, 100.52254, 100.52806, ...]                                                                                                                                                                                                                                                                                                                                                                                                                                                                                                                                                                                                                                                                                                                                                                                                                                                                                                                                                                                                                                                                                                                                                                                                                                                                                                                                                                                                                                                                                                                                                                                                                                                                                                                                                                                                                                                                                                                                                                                                                                                                                                                                                                                                                                                                                                                                                                                                                                                                                                                                                                                                                                                                                                             \n",
       "8   [Entire home/apt, Private room, Hotel room, Shared room]                                                                                                                                                                                                                                                                                                                                                                                                                                                                                                                                                                                                                                                                                                                                                                                                                                                                                                                                                                                                                                                                                                                                                                                                                                                                                                                                                                                                                                                                                                                                                                                                                                                                                                                                                                                                                                                                                                                                                                                                                                                                                                                                                                                                                                                                                                                                                                                                                                                                                                                                                                                                                                                                                                                                                                                                                                                                                                                                                                                                                                                                                                                                                                                                                                                                                                                                                                                                                                                                                                                                                                                                                                                                                                                                                                                                       \n",
       "9   [1905, 1316, 800, 1286, 1000, 1558, 1461, 700, 1150, 1893, 1862, 910, 1400, 4156, 1577, 122594, 5680, 5034, 1500, 1385, 3775, 2078, 1732, 2000, 3082, 1190, 1329, 1176, 600, 1659, 5429, 1843, 1870, 2500, 1300, 1200, 3500, 1795, 350, 1450, 8658, 3757, 1490, 2701, 2251, 866, 2696, 1736, 1800, 900, 400, 2900, 2226, 890, 3394, 922, 1543, 1589, 1271, 1747, 797, 6926, 1169, 5195, 829, 950, 2355, 980, 330, 3740, 1143, 831, 790, 720, 1211, 970, 929, 670, 1004, 811, 1629, 835, 926, 650, 5887, 1250, 2571, 3847, 1485, 2814, 707, 2061, 750, 693, 1088, 808, 500, 3097, 850, 1212, ...]                                                                                                                                                                                                                                                                                                                                                                                                                                                                                                                                                                                                                                                                                                                                                                                                                                                                                                                                                                                                                                                                                                                                                                                                                                                                                                                                                                                                                                                                                                                                                                                                                                                                                                                                                                                                                                                                                                                                                                                                                                                                                                                                                                                                                                                                                                                                                                                                                                                                                                                                                                                                                                                                                                                                                                                                                                                                                                                                                                                                                                                                                                                                                                                                                                                               \n",
       "10  [3, 1, 60, 7, 250, 2, 15, 30, 28, 21, 27, 4, 180, 90, 5, 358, 1125, 29, 14, 200, 365, 120, 9, 12, 300, 360, 100, 10, 45, 23, 6, 84, 370, 24, 31, 50, 19, 20, 75, 8, 25, 40, 26, 59, 58, 170, 399, 998, 13, 22, 356, 16, 183, 700, 150, 35, 355, 500, 89, 80, 18, 11, 85, 135, 198, 88, 160, 109, 148, 51, 1115, 113, 62, 450, 270, 55, 208, 1000, 17, 999, 400, 99, 1095, 39, 190, 364]                                                                                                                                                                                                                                                                                                                                                                                                                                                                                                                                                                                                                                                                                                                                                                                                                                                                                                                                                                                                                                                                                                                                                                                                                                                                                                                                                                                                                                                                                                                                                                                                                                                                                                                                                                                                                                                                                                                                                                                                                                                                                                                                                                                                                                                                                                                                                                                                                                                                                                                                                                                                                                                                                                                                                                                                                                                                                                                                                                                                                                                                                                                                                                                                                                                                                                                                                                                                                                                                        \n",
       "11  [65, 0, 2, 19, 1, 10, 4, 27, 129, 208, 3, 78, 9, 148, 287, 83, 76, 28, 63, 212, 90, 71, 5, 15, 7, 419, 95, 21, 268, 310, 118, 11, 104, 472, 43, 56, 295, 29, 67, 170, 12, 94, 40, 36, 293, 396, 80, 189, 430, 39, 32, 18, 82, 325, 35, 14, 127, 26, 48, 8, 120, 60, 38, 24, 404, 6, 109, 34, 206, 271, 93, 77, 426, 224, 147, 33, 37, 58, 135, 81, 117, 146, 53, 101, 25, 97, 20, 88, 256, 278, 167, 91, 31, 113, 192, 156, 92, 75, 103, 252, ...]                                                                                                                                                                                                                                                                                                                                                                                                                                                                                                                                                                                                                                                                                                                                                                                                                                                                                                                                                                                                                                                                                                                                                                                                                                                                                                                                                                                                                                                                                                                                                                                                                                                                                                                                                                                                                                                                                                                                                                                                                                                                                                                                                                                                                                                                                                                                                                                                                                                                                                                                                                                                                                                                                                                                                                                                                                                                                                                                                                                                                                                                                                                                                                                                                                                                                                                                                                                                             \n",
       "12  [2020-01-06, nan, 2022-04-01, 2017-08-03, 2014-02-03, 2016-03-29, 2019-12-27, 2019-01-03, 2022-09-30, 2019-12-02, 2018-07-30, 2019-05-31, 2020-03-04, 2020-01-07, 2022-11-22, 2018-12-24, 2018-09-12, 2013-10-09, 2018-04-05, 2022-11-25, 2019-12-31, 2022-12-08, 2022-11-15, 2018-12-18, 2022-11-30, 2019-11-10, 2015-12-08, 2022-12-07, 2022-12-15, 2019-02-20, 2022-12-11, 2018-07-02, 2020-02-20, 2014-11-12, 2022-10-25, 2020-03-03, 2019-08-04, 2021-08-21, 2022-12-18, 2022-09-20, 2022-11-28, 2022-12-05, 2020-02-08, 2022-08-31, 2022-12-09, 2022-09-01, 2022-12-06, 2020-04-30, 2020-01-28, 2019-01-13, 2022-10-01, 2022-10-31, 2020-01-04, 2022-11-26, 2019-12-09, 2022-09-14, 2020-03-14, 2019-03-04, 2018-10-24, 2013-11-01, 2022-12-14, 2016-11-05, 2022-11-13, 2013-06-28, 2017-02-23, 2020-02-28, 2013-07-01, 2022-10-30, 2018-03-31, 2022-12-12, 2018-07-22, 2022-12-16, 2022-10-23, 2019-04-13, 2019-01-01, 2019-01-22, 2021-03-15, 2021-05-17, 2022-12-20, 2013-12-03, 2015-09-02, 2015-09-01, 2016-04-08, 2022-12-13, 2019-01-04, 2012-12-15, 2015-10-18, 2022-12-04, 2020-01-10, 2022-06-17, 2022-06-19, 2020-03-15, 2015-01-01, 2018-12-05, 2018-04-30, 2022-11-18, 2022-11-11, 2022-10-07, 2013-08-18, 2017-06-19, ...]                                                                                                                                                                                                                                                                                                                                                                                                                                                                                                                                                                                                                                                                                                                                                                                                                                                                                                                                                                                                                                                                                                                                                                                                                                                                                                                                                                                                                                                                                                                                                                                                                                                                                                                                                                                                                                                                                                                                                                                                                                                                                                                                                                                                                                                                                                                                                                                                                                                                                                                                                                                                                 \n",
       "13  [0.5, nan, 0.03, 0.17, 0.01, 0.09, 0.19, 1.17, 1.44, 0.02, 0.78, 1.08, 2.59, 0.05, 0.75, 0.7, 0.28, 0.64, 0.47, 1.58, 0.77, 0.54, 0.14, 0.06, 3.77, 0.8, 3.0, 1.07, 0.15, 0.89, 4.02, 0.04, 0.46, 0.39, 0.43, 2.61, 0.27, 0.51, 1.54, 0.12, 0.33, 2.72, 3.02, 0.62, 1.45, 3.39, 0.3, 0.25, 0.18, 0.83, 2.67, 0.31, 0.11, 1.0, 0.23, 0.38, 0.07, 0.93, 0.4, 3.67, 1.15, 0.41, 0.32, 1.83, 2.97, 0.95, 0.1, 1.84, 1.18, 1.03, 0.13, 0.53, 1.79, 1.19, 0.72, 1.02, 1.27, 0.2, 0.92, 0.22, 0.21, 0.08, 2.13, 2.31, 0.26, 0.29, 1.2, 1.78, 0.81, 0.96, 1.22, 2.11, 0.37, 0.71, 0.24, 1.36, 1.98, 1.12, 1.96, 2.12, ...]                                                                                                                                                                                                                                                                                                                                                                                                                                                                                                                                                                                                                                                                                                                                                                                                                                                                                                                                                                                                                                                                                                                                                                                                                                                                                                                                                                                                                                                                                                                                                                                                                                                                                                                                                                                                                                                                                                                                                                                                                                                                                                                                                                                                                                                                                                                                                                                                                                                                                                                                                                                                                                                                                                                                                                                                                                                                                                                                                                                                                                                                                                                                                                                                                                             \n",
       "14  [2, 1, 3, 41, 10, 7, 6, 4, 37, 8, 19, 5, 53, 45, 13, 11, 25, 24, 36, 29, 18, 12, 9, 15, 44, 33, 39, 21, 34, 89, 32, 56, 62, 23, 14, 22, 17, 28, 16, 31, 20, 26, 228, 48, 99, 27, 30, 49, 40, 35]                                                                                                                                                                                                                                                                                                                                                                                                                                                                                                                                                                                                                                                                                                                                                                                                                                                                                                                                                                                                                                                                                                                                                                                                                                                                                                                                                                                                                                                                                                                                                                                                                                                                                                                                                                                                                                                                                                                                                                                                                                                                                                                                                                                                                                                                                                                                                                                                                                                                                                                                                                                                                                                                                                                                                                                                                                                                                                                                                                                                                                                                                                                                                                                                                                                                                                                                                                                                                                                                                                                                                                                                                                                               \n",
       "15  [353, 358, 365, 323, 87, 320, 356, 361, 330, 180, 334, 349, 364, 55, 263, 350, 95, 207, 336, 174, 156, 331, 88, 355, 363, 339, 145, 134, 16, 0, 242, 256, 59, 167, 219, 142, 149, 176, 129, 230, 301, 120, 75, 44, 270, 346, 272, 162, 347, 359, 304, 62, 82, 342, 348, 130, 154, 244, 344, 354, 317, 54, 362, 271, 255, 144, 357, 181, 236, 127, 146, 124, 221, 294, 13, 318, 56, 267, 293, 107, 360, 314, 316, 89, 57, 312, 70, 179, 10, 338, 86, 302, 321, 98, 217, 341, 90, 325, 333, 1, ...]                                                                                                                                                                                                                                                                                                                                                                                                                                                                                                                                                                                                                                                                                                                                                                                                                                                                                                                                                                                                                                                                                                                                                                                                                                                                                                                                                                                                                                                                                                                                                                                                                                                                                                                                                                                                                                                                                                                                                                                                                                                                                                                                                                                                                                                                                                                                                                                                                                                                                                                                                                                                                                                                                                                                                                                                                                                                                                                                                                                                                                                                                                                                                                                                                                                                                                                                                              \n",
       "16  [0, 1, 3, 13, 2, 7, 5, 10, 9, 12, 29, 4, 19, 56, 20, 11, 6, 14, 8, 43, 18, 30, 15, 277, 26, 59, 21, 41, 16, 22, 25, 38, 42, 40, 31, 39, 35, 44, 17, 27, 36, 23, 79, 50, 24, 34, 47, 37, 32, 73, 48, 28, 45, 67, 46, 147, 109, 68, 62, 51, 72, 52, 49, 33, 69, 325, 55, 146, 61, 124, 75, 71, 138, 57, 70, 90, 65, 141, 246, 118, 80, 53, 63, 60, 101]                                                                                                                                                                                                                                                                                                                                                                                                                                                                                                                                                                                                                                                                                                                                                                                                                                                                                                                                                                                                                                                                                                                                                                                                                                                                                                                                                                                                                                                                                                                                                                                                                                                                                                                                                                                                                                                                                                                                                                                                                                                                                                                                                                                                                                                                                                                                                                                                                                                                                                                                                                                                                                                                                                                                                                                                                                                                                                                                                                                                                                                                                                                                                                                                                                                                                                                                                                                                                                                                                                          "
      ]
     },
     "execution_count": 132,
     "metadata": {},
     "output_type": "execute_result"
    }
   ],
   "source": [
    "# Memeriksa data unik/tunggal\n",
    "pd.set_option('display.max_colwidth', 0)\n",
    "listItem = []\n",
    "for col in df.columns :\n",
    "    listItem.append( [col, df[col].nunique(), df[col].unique()])\n",
    "\n",
    "tabelUnik = pd.DataFrame(columns=['Column Name', 'Number of Unique', 'Unique Sample'], data=listItem)\n",
    "tabelUnik"
   ]
  },
  {
   "cell_type": "markdown",
   "metadata": {},
   "source": [
    "Informasi Umum:\n",
    "1. Terdapat 16 kolom dan 15854 baris pada dataset Airbnb Listings Bangkok.\n",
    "2. Setiap kolom memiliki tipe data yang sudah sesuai.\n",
    "3. Pada kolom kategorikal yakni kolom 'room_type', tidak ada data anomali.\n",
    "4. Terdapat missing values pada empat kolom yang akan ditangani pada bagian selanjutnya."
   ]
  },
  {
   "cell_type": "markdown",
   "metadata": {},
   "source": [
    "## Data Preparation (Cleaning)"
   ]
  },
  {
   "cell_type": "markdown",
   "metadata": {},
   "source": [
    "Alangkah baiknya jika data yang dianalisis merepresentasikan data yang bersih dari kolom-kolom yang tidak dibutuhkan, entri yang kosong, dan data anomali."
   ]
  },
  {
   "cell_type": "markdown",
   "metadata": {},
   "source": [
    "Terdapat kolom 'Unnamed: 0' pada dataframe yang merupakan indexing setiap data. Pandas dataframe dapat mengakses index suatu data tanpa membutuhkan kolom index, sehingga kolom ini dapat dibuang."
   ]
  },
  {
   "cell_type": "code",
   "execution_count": 133,
   "metadata": {},
   "outputs": [],
   "source": [
    "df.drop(columns='Unnamed: 0',inplace=True)"
   ]
  },
  {
   "cell_type": "markdown",
   "metadata": {},
   "source": [
    "### Missing Values"
   ]
  },
  {
   "cell_type": "markdown",
   "metadata": {},
   "source": [
    "Selanjutnya, akan diperiksa banyak missing values pada setiap kolom"
   ]
  },
  {
   "cell_type": "code",
   "execution_count": 134,
   "metadata": {},
   "outputs": [
    {
     "data": {
      "text/plain": [
       "id                                0   \n",
       "name                              8   \n",
       "host_id                           0   \n",
       "host_name                         1   \n",
       "neighbourhood                     0   \n",
       "latitude                          0   \n",
       "longitude                         0   \n",
       "room_type                         0   \n",
       "price                             0   \n",
       "minimum_nights                    0   \n",
       "number_of_reviews                 0   \n",
       "last_review                       5790\n",
       "reviews_per_month                 5790\n",
       "calculated_host_listings_count    0   \n",
       "availability_365                  0   \n",
       "number_of_reviews_ltm             0   \n",
       "dtype: int64"
      ]
     },
     "execution_count": 134,
     "metadata": {},
     "output_type": "execute_result"
    }
   ],
   "source": [
    "# Banyak missing values pada setiap kolom/variabel\n",
    "df.isna().sum()"
   ]
  },
  {
   "cell_type": "code",
   "execution_count": 135,
   "metadata": {},
   "outputs": [
    {
     "data": {
      "text/plain": [
       "name                 0.050460 \n",
       "host_name            0.006308 \n",
       "last_review          36.520752\n",
       "reviews_per_month    36.520752\n",
       "dtype: float64"
      ]
     },
     "execution_count": 135,
     "metadata": {},
     "output_type": "execute_result"
    }
   ],
   "source": [
    "# Proporsi banyak missing values terhadap banyak data (dalam persentase)\n",
    "df[['name','host_name','last_review','reviews_per_month']].isna().sum()/len(df)*100"
   ]
  },
  {
   "cell_type": "markdown",
   "metadata": {},
   "source": [
    "Diperoleh bahwa missing values terdapat pada kolom 'name', 'host_name', 'last_review', dan 'reviews_per_month', dengan:\n",
    "\n",
    "'name' --> 8 dari 15854 || 0.050%\n",
    "\n",
    "'host_name' --> 1 dari 15854 || 0.006%\n",
    "\n",
    "'last_review' --> 5790 dari 15854 || 36.521%\n",
    "\n",
    "'reviews_per_month' --> 5790 dari 15854 || 36.521%"
   ]
  },
  {
   "cell_type": "markdown",
   "metadata": {},
   "source": [
    "### last_review & reviews_per_month"
   ]
  },
  {
   "cell_type": "markdown",
   "metadata": {},
   "source": [
    "Perhatikan bahwa terdapat sekitar 36,521% missing values pada kedua kolom 'last_review' dan 'reviews_per_month'. Proporsi tersebut tergolong sangat besar. Akan tetapi, secara kebetulan banyak missing values pada kedua kolom sama. Apakah tidak mengisi data pada kolom 'last_review' (saat input data) mengimplikasikan tidak mengisi juga data pada kolom 'reviews_per_month' ataupun sebaliknya?"
   ]
  },
  {
   "cell_type": "code",
   "execution_count": 136,
   "metadata": {},
   "outputs": [
    {
     "data": {
      "text/plain": [
       "<Axes: >"
      ]
     },
     "execution_count": 136,
     "metadata": {},
     "output_type": "execute_result"
    },
    {
     "data": {
      "image/png": "[encoded data removed]",
      "text/plain": [
       "<Figure size 700x700 with 2 Axes>"
      ]
     },
     "metadata": {},
     "output_type": "display_data"
    }
   ],
   "source": [
    "# Persebaran missing values (berdasarkan id)\n",
    "plt.figure(figsize=(7,7))\n",
    "sns.heatmap(df[['name','host_name','last_review','reviews_per_month']].isna())"
   ]
  },
  {
   "cell_type": "markdown",
   "metadata": {},
   "source": [
    "Berdasarkan heat map di atas, ketiadaan data 'last_review' sangat berkaitan dengan ketiadaan 'reviews_per_month'. Akan diperiksa apakah implikasi benar terjadi."
   ]
  },
  {
   "cell_type": "code",
   "execution_count": 137,
   "metadata": {},
   "outputs": [
    {
     "data": {
      "text/plain": [
       "5790"
      ]
     },
     "execution_count": 137,
     "metadata": {},
     "output_type": "execute_result"
    }
   ],
   "source": [
    "# Irisan missing values data pada kedua kolom 'last_review' dan 'reviews_per_month'\n",
    "len(df[(df['last_review'].isna()) & (df['reviews_per_month'].isna())])"
   ]
  },
  {
   "cell_type": "markdown",
   "metadata": {},
   "source": [
    "Terdapat 5790 data beririsan dengan missing values pada kedua kolom 'last_review' dan 'reviews_per_month', yang merupakan banyak missing values pada kedua kolom tersebut. Hal ini membuktikan implikasi missing values pada kedua kolom.\n",
    "\n",
    "Salah satu kasus kemungkinan fenomena ini adalah iklan tersebut sangat baru dipublikasi. Kasus ini menyatakan bahwa missing values pada kolom 'reviews_per_month' seharusnya bernilai nol sehingga tidak ada tanggal review terakhir yang dapat diinputkan. Akan diperiksa apakah terdapat 'reviews_per_month' bernilai nol pada dataframe."
   ]
  },
  {
   "cell_type": "code",
   "execution_count": 138,
   "metadata": {},
   "outputs": [
    {
     "data": {
      "text/plain": [
       "0"
      ]
     },
     "execution_count": 138,
     "metadata": {},
     "output_type": "execute_result"
    }
   ],
   "source": [
    "# Banyak entri nol pada 'reviews_per_month'\n",
    "len(df[df['reviews_per_month'] == 0])"
   ]
  },
  {
   "cell_type": "markdown",
   "metadata": {},
   "source": [
    "Diperoleh bahwa belum ada data dengan 'reviews_per_month' bernilai nol. Kemudian, tinjau hubungan missing values data 'reviews_per_month' dengan 'number_of_reviews'."
   ]
  },
  {
   "cell_type": "code",
   "execution_count": 139,
   "metadata": {},
   "outputs": [
    {
     "data": {
      "text/plain": [
       "np.True_"
      ]
     },
     "execution_count": 139,
     "metadata": {},
     "output_type": "execute_result"
    }
   ],
   "source": [
    "# array index data dengan missing values pada 'reviews_per_month' dan nilai 0 pada 'number_of_reviews'\n",
    "idx_nof0_rpm_na = df.loc[(df['reviews_per_month'].isna()) & (df['number_of_reviews'] == 0)].index\n",
    "\n",
    "# array index data dengan missing values pada 'reviews_per_month'\n",
    "idx_rpm_na = df.loc[df['reviews_per_month'].isna()].index\n",
    "\n",
    "# Periksa apakah kedua array sebelumnya sama (per elemen)\n",
    "(idx_nof0_rpm_na == idx_rpm_na).all()"
   ]
  },
  {
   "cell_type": "markdown",
   "metadata": {},
   "source": [
    "Hasil 'True' pada pengecekan di atas mengimplikasikan bahwa semua data dengan missing values pada kolom 'reviews_per_month' memiliki nilai nol pada 'number_of_reviews'. Hal ini memperkuat dugaan sebelumnya bahwa missing values pada kolom 'reviews_per_month' seharusnya berisikan nol. Akan tetapi, hal ini belum bisa menjelaskan apakah benar missing values pada kolom 'last_review' merupakan iklan terbaru, mungkin saja iklan sudah lama dipublikasi dan host tidak memberikan pembaharuan mengenai iklannya."
   ]
  },
  {
   "cell_type": "markdown",
   "metadata": {},
   "source": [
    "Di samping meninjau 'number_of_reviews', alternatif lainnya adalah meninjau hubungan missing values 'reviews_per_month' dengan 'number_of_reviews_ltm', yakni dalam 12 bulan terakhir."
   ]
  },
  {
   "cell_type": "code",
   "execution_count": 140,
   "metadata": {},
   "outputs": [
    {
     "data": {
      "text/plain": [
       "np.True_"
      ]
     },
     "execution_count": 140,
     "metadata": {},
     "output_type": "execute_result"
    }
   ],
   "source": [
    "# array index data dengan missing values pada 'reviews_per_month' dan nilai 0 pada 'number_of_reviews_ltm'\n",
    "idx_nofltm0_rpm_na = df.loc[(df['reviews_per_month'].isna()) & (df['number_of_reviews_ltm'] == 0)].index\n",
    "\n",
    "# array index data dengan missing values pada 'reviews_per_month' : idx_rpm_na \n",
    "\n",
    "# Periksa apakah kedua array sebelumnya sama (per elemen)\n",
    "(idx_nofltm0_rpm_na == idx_rpm_na).all()"
   ]
  },
  {
   "cell_type": "markdown",
   "metadata": {},
   "source": [
    "Hasil 'True' pada pengecekan di atas memvalidasi bahwa semua data dengan missing values pada kolom 'reviews_per_month' seharusnya bernilai nol. Di samping itu, hal ini memvalidasi kondisi bahwa data dengan missing values ini merepresentasikan iklan yang belum pernah mendapatkan review sama sekali sepanjang waktu pengiklanan atau dalam 12 bulan terakhir. Oleh karena itu, isi missing values tersebut dengan nilai nol."
   ]
  },
  {
   "cell_type": "code",
   "execution_count": 141,
   "metadata": {},
   "outputs": [],
   "source": [
    "# Mengisi missing values 'reviews_per_month' dengan nilai 0, bertipe float\n",
    "df['reviews_per_month'] = df['reviews_per_month'].fillna(value=0)"
   ]
  },
  {
   "cell_type": "code",
   "execution_count": 142,
   "metadata": {},
   "outputs": [
    {
     "data": {
      "text/plain": [
       "reviews_per_month    0\n",
       "dtype: int64"
      ]
     },
     "execution_count": 142,
     "metadata": {},
     "output_type": "execute_result"
    }
   ],
   "source": [
    "# Periksa banyak missing values pada kolom 'reviews_per_month'\n",
    "df[['reviews_per_month']].isna().sum()"
   ]
  },
  {
   "cell_type": "markdown",
   "metadata": {},
   "source": [
    "Perhatikan bahwa tidak masuk akal mengisi tanggal review terakhir ketika tidak pernah ada review sebelumnya pada kolom 'last_review'.\n",
    "\n",
    "Tinjau kembali bahwa kolom 'reviews_per_month' merepresentasikan banyak kepadatan jumlah review terhadap lama iklan terpublikasikan. Jika diketahui 'number_of_reviews' dan 'reviews_per_month', maka lama iklan terpublikasikan dapat diketahui. Akan tetapi, lamanya tersebut membutuhkan waktu pertama dan terakhir iklan tersebut ada."
   ]
  },
  {
   "cell_type": "code",
   "execution_count": 143,
   "metadata": {},
   "outputs": [
    {
     "data": {
      "text/html": [
       "<div>\n",
       "<style scoped>\n",
       "    .dataframe tbody tr th:only-of-type {\n",
       "        vertical-align: middle;\n",
       "    }\n",
       "\n",
       "    .dataframe tbody tr th {\n",
       "        vertical-align: top;\n",
       "    }\n",
       "\n",
       "    .dataframe thead th {\n",
       "        text-align: right;\n",
       "    }\n",
       "</style>\n",
       "<table border=\"1\" class=\"dataframe\">\n",
       "  <thead>\n",
       "    <tr style=\"text-align: right;\">\n",
       "      <th></th>\n",
       "      <th>last_review</th>\n",
       "    </tr>\n",
       "  </thead>\n",
       "  <tbody>\n",
       "    <tr>\n",
       "      <th>15796</th>\n",
       "      <td>2022-12-28</td>\n",
       "    </tr>\n",
       "  </tbody>\n",
       "</table>\n",
       "</div>"
      ],
      "text/plain": [
       "      last_review\n",
       "15796  2022-12-28"
      ]
     },
     "execution_count": 143,
     "metadata": {},
     "output_type": "execute_result"
    }
   ],
   "source": [
    "# Tinjau tanggal terakhir review yang ada pada kolom 'last_review' di luar missing values\n",
    "df[['last_review']][df['last_review'].notna()].sort_values(by = 'last_review', ascending = False, inplace = False).head(1)"
   ]
  },
  {
   "cell_type": "markdown",
   "metadata": {},
   "source": [
    "Diperoleh bahwa review terakhir ada pada akhir tahun 2022. Hal ini menjadi batasan analisis bahwa data iklan hanya ada hingga akhir tahun 2022. \n",
    "Dengan begitu, kolom baru yang merepresentasikan lama iklan terpublikasikan. Akan tetapi, terdapat kemungkinan pembagi nol dalam proses perhitungannya. Oleh karena itu, kolom bertipe numerik tidak cocok untuk kasus ini dan sebaiknya buat kolom bertipe kategori. Meskipun begitu, kolom bertipe numerik dapat dibuat untuk mendeteksi keberadaan outliers. Lebih lanjut, bangun 4 kategori:\n",
    "1. new: kurang dari 12 bulan\n",
    "2. intermediate: antara 12 hingga 36 bulan\n",
    "3. old: lebih dari 36 bulan\n",
    "4. unknown: tidak diketahui\n",
    "\n",
    "*Pengambilan kategori tersebut didasarkan pada pengalaman pribadi dan belum ada rujukan mengenai kategori ini dari Airbnb"
   ]
  },
  {
   "cell_type": "code",
   "execution_count": 144,
   "metadata": {},
   "outputs": [],
   "source": [
    "# Fungsi penghitung lama iklan terpublikasikan (dalam bulan)\n",
    "def entry_months_existed(banyak_review, densitas_review_bulan):\n",
    "    if densitas_review_bulan == 0:\n",
    "        return 'unknown'\n",
    "    return banyak_review / densitas_review_bulan\n",
    "\n",
    "# Membuat kolom sementara 'months_existing' menggunakan fungsi di atas\n",
    "df['months_existing'] = df.apply(lambda row: entry_months_existed(row['number_of_reviews'], row['reviews_per_month']), axis=1)\n",
    "\n",
    "# Fungsi kategori lama iklan terpublikasikan\n",
    "def entry_category_existing(bulan):\n",
    "    if bulan == 'unknown':\n",
    "        return 'unknown'\n",
    "    elif bulan < 12:\n",
    "        return 'new'\n",
    "    elif 12 <= bulan <= 36:\n",
    "        return 'intermediate'\n",
    "    else:\n",
    "        return 'old'\n",
    "\n",
    "# Membuat kolom 'category_existing' menggunakan fungsi di atas\n",
    "df['category_existing'] = df['months_existing'].apply(lambda x: entry_category_existing(float(x)) if x != 'unknown' else 'unknown')"
   ]
  },
  {
   "cell_type": "code",
   "execution_count": 145,
   "metadata": {},
   "outputs": [
    {
     "data": {
      "text/html": [
       "<div>\n",
       "<style scoped>\n",
       "    .dataframe tbody tr th:only-of-type {\n",
       "        vertical-align: middle;\n",
       "    }\n",
       "\n",
       "    .dataframe tbody tr th {\n",
       "        vertical-align: top;\n",
       "    }\n",
       "\n",
       "    .dataframe thead th {\n",
       "        text-align: right;\n",
       "    }\n",
       "</style>\n",
       "<table border=\"1\" class=\"dataframe\">\n",
       "  <thead>\n",
       "    <tr style=\"text-align: right;\">\n",
       "      <th></th>\n",
       "      <th>category_existing</th>\n",
       "    </tr>\n",
       "  </thead>\n",
       "  <tbody>\n",
       "    <tr>\n",
       "      <th>0</th>\n",
       "      <td>old</td>\n",
       "    </tr>\n",
       "    <tr>\n",
       "      <th>1</th>\n",
       "      <td>unknown</td>\n",
       "    </tr>\n",
       "    <tr>\n",
       "      <th>2</th>\n",
       "      <td>unknown</td>\n",
       "    </tr>\n",
       "    <tr>\n",
       "      <th>3</th>\n",
       "      <td>old</td>\n",
       "    </tr>\n",
       "    <tr>\n",
       "      <th>4</th>\n",
       "      <td>unknown</td>\n",
       "    </tr>\n",
       "    <tr>\n",
       "      <th>...</th>\n",
       "      <td>...</td>\n",
       "    </tr>\n",
       "    <tr>\n",
       "      <th>15849</th>\n",
       "      <td>unknown</td>\n",
       "    </tr>\n",
       "    <tr>\n",
       "      <th>15850</th>\n",
       "      <td>unknown</td>\n",
       "    </tr>\n",
       "    <tr>\n",
       "      <th>15851</th>\n",
       "      <td>unknown</td>\n",
       "    </tr>\n",
       "    <tr>\n",
       "      <th>15852</th>\n",
       "      <td>unknown</td>\n",
       "    </tr>\n",
       "    <tr>\n",
       "      <th>15853</th>\n",
       "      <td>unknown</td>\n",
       "    </tr>\n",
       "  </tbody>\n",
       "</table>\n",
       "<p>15854 rows × 1 columns</p>\n",
       "</div>"
      ],
      "text/plain": [
       "      category_existing\n",
       "0      old             \n",
       "1      unknown         \n",
       "2      unknown         \n",
       "3      old             \n",
       "4      unknown         \n",
       "...        ...         \n",
       "15849  unknown         \n",
       "15850  unknown         \n",
       "15851  unknown         \n",
       "15852  unknown         \n",
       "15853  unknown         \n",
       "\n",
       "[15854 rows x 1 columns]"
      ]
     },
     "execution_count": 145,
     "metadata": {},
     "output_type": "execute_result"
    }
   ],
   "source": [
    "# Periksa apakah kolom 'category_existing' telah ditambahkan\n",
    "df[['category_existing']]"
   ]
  },
  {
   "cell_type": "code",
   "execution_count": 146,
   "metadata": {},
   "outputs": [
    {
     "data": {
      "text/plain": [
       "category_existing    0\n",
       "dtype: int64"
      ]
     },
     "execution_count": 146,
     "metadata": {},
     "output_type": "execute_result"
    }
   ],
   "source": [
    "# Periksa apakah ada missing values pada kolom 'category_existing'\n",
    "df[['category_existing']].isna().sum()"
   ]
  },
  {
   "cell_type": "markdown",
   "metadata": {},
   "source": [
    "Karena kolom 'category_existing' telah ditambahkan, maka analisis data yang berkaitan dengan relevansi waktu iklan tempat penginapan dapat menggunakan kedua kolom 'category_existing' atau 'last_review'. Namun, karena kolom 'category_existing' tidak memuat missing values, maka kolom 'last_review' akan dibuang, mengingat terdapat sekitar 36% missing values."
   ]
  },
  {
   "cell_type": "code",
   "execution_count": 147,
   "metadata": {},
   "outputs": [],
   "source": [
    "# Hapus kolom 'last_review'\n",
    "df.drop(columns = 'last_review', inplace = True)"
   ]
  },
  {
   "cell_type": "code",
   "execution_count": 148,
   "metadata": {},
   "outputs": [
    {
     "data": {
      "text/plain": [
       "id                                0\n",
       "name                              8\n",
       "host_id                           0\n",
       "host_name                         1\n",
       "neighbourhood                     0\n",
       "latitude                          0\n",
       "longitude                         0\n",
       "room_type                         0\n",
       "price                             0\n",
       "minimum_nights                    0\n",
       "number_of_reviews                 0\n",
       "reviews_per_month                 0\n",
       "calculated_host_listings_count    0\n",
       "availability_365                  0\n",
       "number_of_reviews_ltm             0\n",
       "months_existing                   0\n",
       "category_existing                 0\n",
       "dtype: int64"
      ]
     },
     "execution_count": 148,
     "metadata": {},
     "output_type": "execute_result"
    }
   ],
   "source": [
    "# Periksa kembali banyak missing values\n",
    "df.isna().sum()"
   ]
  },
  {
   "cell_type": "markdown",
   "metadata": {},
   "source": [
    "Dengan begitu, missing values pada kedua kolom 'reviews_per_month' dan 'last_review' telah ditangani."
   ]
  },
  {
   "cell_type": "markdown",
   "metadata": {},
   "source": [
    "### name & host_name"
   ]
  },
  {
   "cell_type": "markdown",
   "metadata": {},
   "source": [
    "Terdapat sekitar '0.05%' dan '0.006%' missing values pada masing-masing data kolom 'name' dan 'host_name'. Karena proporsinya sangat kecil, maka data-data yang berkorespondensi dengan missing values tersebut akan dihapus."
   ]
  },
  {
   "cell_type": "code",
   "execution_count": 149,
   "metadata": {},
   "outputs": [],
   "source": [
    "# Menghapus data dengan missing values pada kolom 'name' dan 'host_name'\n",
    "df.dropna(subset=['name','host_name'],inplace=True)"
   ]
  },
  {
   "cell_type": "code",
   "execution_count": 150,
   "metadata": {},
   "outputs": [
    {
     "data": {
      "text/plain": [
       "id                                0\n",
       "name                              0\n",
       "host_id                           0\n",
       "host_name                         0\n",
       "neighbourhood                     0\n",
       "latitude                          0\n",
       "longitude                         0\n",
       "room_type                         0\n",
       "price                             0\n",
       "minimum_nights                    0\n",
       "number_of_reviews                 0\n",
       "reviews_per_month                 0\n",
       "calculated_host_listings_count    0\n",
       "availability_365                  0\n",
       "number_of_reviews_ltm             0\n",
       "months_existing                   0\n",
       "category_existing                 0\n",
       "dtype: int64"
      ]
     },
     "execution_count": 150,
     "metadata": {},
     "output_type": "execute_result"
    }
   ],
   "source": [
    "# Periksa kembali banyak missing values\n",
    "df.isna().sum()"
   ]
  },
  {
   "cell_type": "markdown",
   "metadata": {},
   "source": [
    "Dengan begitu, data telah bersih dari missing values."
   ]
  },
  {
   "cell_type": "code",
   "execution_count": 151,
   "metadata": {},
   "outputs": [
    {
     "data": {
      "text/html": [
       "<div>\n",
       "<style scoped>\n",
       "    .dataframe tbody tr th:only-of-type {\n",
       "        vertical-align: middle;\n",
       "    }\n",
       "\n",
       "    .dataframe tbody tr th {\n",
       "        vertical-align: top;\n",
       "    }\n",
       "\n",
       "    .dataframe thead th {\n",
       "        text-align: right;\n",
       "    }\n",
       "</style>\n",
       "<table border=\"1\" class=\"dataframe\">\n",
       "  <thead>\n",
       "    <tr style=\"text-align: right;\">\n",
       "      <th></th>\n",
       "      <th>id</th>\n",
       "      <th>name</th>\n",
       "      <th>host_id</th>\n",
       "      <th>host_name</th>\n",
       "      <th>neighbourhood</th>\n",
       "      <th>latitude</th>\n",
       "      <th>longitude</th>\n",
       "      <th>room_type</th>\n",
       "      <th>price</th>\n",
       "      <th>minimum_nights</th>\n",
       "      <th>number_of_reviews</th>\n",
       "      <th>reviews_per_month</th>\n",
       "      <th>calculated_host_listings_count</th>\n",
       "      <th>availability_365</th>\n",
       "      <th>number_of_reviews_ltm</th>\n",
       "      <th>months_existing</th>\n",
       "      <th>category_existing</th>\n",
       "    </tr>\n",
       "  </thead>\n",
       "  <tbody>\n",
       "    <tr>\n",
       "      <th>0</th>\n",
       "      <td>27934</td>\n",
       "      <td>Nice room with superb city view</td>\n",
       "      <td>120437</td>\n",
       "      <td>Nuttee</td>\n",
       "      <td>Ratchathewi</td>\n",
       "      <td>13.75983</td>\n",
       "      <td>100.54134</td>\n",
       "      <td>Entire home/apt</td>\n",
       "      <td>1905</td>\n",
       "      <td>3</td>\n",
       "      <td>65</td>\n",
       "      <td>0.50</td>\n",
       "      <td>2</td>\n",
       "      <td>353</td>\n",
       "      <td>0</td>\n",
       "      <td>130.0</td>\n",
       "      <td>old</td>\n",
       "    </tr>\n",
       "    <tr>\n",
       "      <th>1</th>\n",
       "      <td>27979</td>\n",
       "      <td>Easy going landlord,easy place</td>\n",
       "      <td>120541</td>\n",
       "      <td>Emy</td>\n",
       "      <td>Bang Na</td>\n",
       "      <td>13.66818</td>\n",
       "      <td>100.61674</td>\n",
       "      <td>Private room</td>\n",
       "      <td>1316</td>\n",
       "      <td>1</td>\n",
       "      <td>0</td>\n",
       "      <td>0.00</td>\n",
       "      <td>2</td>\n",
       "      <td>358</td>\n",
       "      <td>0</td>\n",
       "      <td>unknown</td>\n",
       "      <td>unknown</td>\n",
       "    </tr>\n",
       "    <tr>\n",
       "      <th>2</th>\n",
       "      <td>28745</td>\n",
       "      <td>modern-style apartment in Bangkok</td>\n",
       "      <td>123784</td>\n",
       "      <td>Familyroom</td>\n",
       "      <td>Bang Kapi</td>\n",
       "      <td>13.75232</td>\n",
       "      <td>100.62402</td>\n",
       "      <td>Private room</td>\n",
       "      <td>800</td>\n",
       "      <td>60</td>\n",
       "      <td>0</td>\n",
       "      <td>0.00</td>\n",
       "      <td>1</td>\n",
       "      <td>365</td>\n",
       "      <td>0</td>\n",
       "      <td>unknown</td>\n",
       "      <td>unknown</td>\n",
       "    </tr>\n",
       "    <tr>\n",
       "      <th>3</th>\n",
       "      <td>35780</td>\n",
       "      <td>Spacious one bedroom at The Kris Condo Bldg. 3</td>\n",
       "      <td>153730</td>\n",
       "      <td>Sirilak</td>\n",
       "      <td>Din Daeng</td>\n",
       "      <td>13.78823</td>\n",
       "      <td>100.57256</td>\n",
       "      <td>Private room</td>\n",
       "      <td>1286</td>\n",
       "      <td>7</td>\n",
       "      <td>2</td>\n",
       "      <td>0.03</td>\n",
       "      <td>1</td>\n",
       "      <td>323</td>\n",
       "      <td>1</td>\n",
       "      <td>66.666667</td>\n",
       "      <td>old</td>\n",
       "    </tr>\n",
       "    <tr>\n",
       "      <th>4</th>\n",
       "      <td>941865</td>\n",
       "      <td>Suite Room 3 at MetroPoint</td>\n",
       "      <td>610315</td>\n",
       "      <td>Kasem</td>\n",
       "      <td>Bang Kapi</td>\n",
       "      <td>13.76872</td>\n",
       "      <td>100.63338</td>\n",
       "      <td>Private room</td>\n",
       "      <td>1905</td>\n",
       "      <td>1</td>\n",
       "      <td>0</td>\n",
       "      <td>0.00</td>\n",
       "      <td>3</td>\n",
       "      <td>365</td>\n",
       "      <td>0</td>\n",
       "      <td>unknown</td>\n",
       "      <td>unknown</td>\n",
       "    </tr>\n",
       "    <tr>\n",
       "      <th>5</th>\n",
       "      <td>1704776</td>\n",
       "      <td>NEw Pro!!  Bungalow Bkk Centre</td>\n",
       "      <td>2129668</td>\n",
       "      <td>Wimonpak</td>\n",
       "      <td>Bang Kho laen</td>\n",
       "      <td>13.69757</td>\n",
       "      <td>100.52880</td>\n",
       "      <td>Entire home/apt</td>\n",
       "      <td>1000</td>\n",
       "      <td>250</td>\n",
       "      <td>19</td>\n",
       "      <td>0.17</td>\n",
       "      <td>41</td>\n",
       "      <td>365</td>\n",
       "      <td>0</td>\n",
       "      <td>111.764706</td>\n",
       "      <td>old</td>\n",
       "    </tr>\n",
       "    <tr>\n",
       "      <th>6</th>\n",
       "      <td>48736</td>\n",
       "      <td>Condo with Chaopraya River View</td>\n",
       "      <td>222005</td>\n",
       "      <td>Athitaya</td>\n",
       "      <td>Rat Burana</td>\n",
       "      <td>13.68556</td>\n",
       "      <td>100.49535</td>\n",
       "      <td>Private room</td>\n",
       "      <td>1558</td>\n",
       "      <td>3</td>\n",
       "      <td>1</td>\n",
       "      <td>0.01</td>\n",
       "      <td>1</td>\n",
       "      <td>365</td>\n",
       "      <td>0</td>\n",
       "      <td>100.0</td>\n",
       "      <td>old</td>\n",
       "    </tr>\n",
       "    <tr>\n",
       "      <th>7</th>\n",
       "      <td>1738669</td>\n",
       "      <td>1 chic bedroom apartment in BKK</td>\n",
       "      <td>7045870</td>\n",
       "      <td>Jiraporn</td>\n",
       "      <td>Chatu Chak</td>\n",
       "      <td>13.82925</td>\n",
       "      <td>100.56737</td>\n",
       "      <td>Entire home/apt</td>\n",
       "      <td>1461</td>\n",
       "      <td>1</td>\n",
       "      <td>0</td>\n",
       "      <td>0.00</td>\n",
       "      <td>1</td>\n",
       "      <td>365</td>\n",
       "      <td>0</td>\n",
       "      <td>unknown</td>\n",
       "      <td>unknown</td>\n",
       "    </tr>\n",
       "    <tr>\n",
       "      <th>8</th>\n",
       "      <td>1744248</td>\n",
       "      <td>Batcave, Pool view, near Chatuchak</td>\n",
       "      <td>9181769</td>\n",
       "      <td>Nol</td>\n",
       "      <td>Chatu Chak</td>\n",
       "      <td>13.81693</td>\n",
       "      <td>100.56433</td>\n",
       "      <td>Entire home/apt</td>\n",
       "      <td>1558</td>\n",
       "      <td>3</td>\n",
       "      <td>10</td>\n",
       "      <td>0.09</td>\n",
       "      <td>1</td>\n",
       "      <td>365</td>\n",
       "      <td>0</td>\n",
       "      <td>111.111111</td>\n",
       "      <td>old</td>\n",
       "    </tr>\n",
       "    <tr>\n",
       "      <th>9</th>\n",
       "      <td>952677</td>\n",
       "      <td>Standard Room Decor do Hostel</td>\n",
       "      <td>5171292</td>\n",
       "      <td>Somsak</td>\n",
       "      <td>Khlong San</td>\n",
       "      <td>13.72040</td>\n",
       "      <td>100.50757</td>\n",
       "      <td>Private room</td>\n",
       "      <td>700</td>\n",
       "      <td>2</td>\n",
       "      <td>4</td>\n",
       "      <td>0.03</td>\n",
       "      <td>10</td>\n",
       "      <td>87</td>\n",
       "      <td>0</td>\n",
       "      <td>133.333333</td>\n",
       "      <td>old</td>\n",
       "    </tr>\n",
       "  </tbody>\n",
       "</table>\n",
       "</div>"
      ],
      "text/plain": [
       "        id                                            name  host_id  \\\n",
       "0  27934    Nice room with superb city view                 120437    \n",
       "1  27979    Easy going landlord,easy place                  120541    \n",
       "2  28745    modern-style apartment in Bangkok               123784    \n",
       "3  35780    Spacious one bedroom at The Kris Condo Bldg. 3  153730    \n",
       "4  941865   Suite Room 3 at MetroPoint                      610315    \n",
       "5  1704776  NEw Pro!!  Bungalow Bkk Centre                  2129668   \n",
       "6  48736    Condo with Chaopraya River View                 222005    \n",
       "7  1738669  1 chic bedroom apartment in BKK                 7045870   \n",
       "8  1744248  Batcave, Pool view, near Chatuchak              9181769   \n",
       "9  952677   Standard Room Decor do Hostel                   5171292   \n",
       "\n",
       "    host_name  neighbourhood  latitude  longitude        room_type  price  \\\n",
       "0  Nuttee      Ratchathewi    13.75983  100.54134  Entire home/apt  1905    \n",
       "1  Emy         Bang Na        13.66818  100.61674  Private room     1316    \n",
       "2  Familyroom  Bang Kapi      13.75232  100.62402  Private room     800     \n",
       "3  Sirilak     Din Daeng      13.78823  100.57256  Private room     1286    \n",
       "4  Kasem       Bang Kapi      13.76872  100.63338  Private room     1905    \n",
       "5  Wimonpak    Bang Kho laen  13.69757  100.52880  Entire home/apt  1000    \n",
       "6  Athitaya    Rat Burana     13.68556  100.49535  Private room     1558    \n",
       "7  Jiraporn    Chatu Chak     13.82925  100.56737  Entire home/apt  1461    \n",
       "8  Nol         Chatu Chak     13.81693  100.56433  Entire home/apt  1558    \n",
       "9  Somsak      Khlong San     13.72040  100.50757  Private room     700     \n",
       "\n",
       "   minimum_nights  number_of_reviews  reviews_per_month  \\\n",
       "0  3               65                 0.50                \n",
       "1  1               0                  0.00                \n",
       "2  60              0                  0.00                \n",
       "3  7               2                  0.03                \n",
       "4  1               0                  0.00                \n",
       "5  250             19                 0.17                \n",
       "6  3               1                  0.01                \n",
       "7  1               0                  0.00                \n",
       "8  3               10                 0.09                \n",
       "9  2               4                  0.03                \n",
       "\n",
       "   calculated_host_listings_count  availability_365  number_of_reviews_ltm  \\\n",
       "0  2                               353               0                       \n",
       "1  2                               358               0                       \n",
       "2  1                               365               0                       \n",
       "3  1                               323               1                       \n",
       "4  3                               365               0                       \n",
       "5  41                              365               0                       \n",
       "6  1                               365               0                       \n",
       "7  1                               365               0                       \n",
       "8  1                               365               0                       \n",
       "9  10                              87                0                       \n",
       "\n",
       "  months_existing category_existing  \n",
       "0  130.0           old               \n",
       "1  unknown         unknown           \n",
       "2  unknown         unknown           \n",
       "3  66.666667       old               \n",
       "4  unknown         unknown           \n",
       "5  111.764706      old               \n",
       "6  100.0           old               \n",
       "7  unknown         unknown           \n",
       "8  111.111111      old               \n",
       "9  133.333333      old               "
      ]
     },
     "execution_count": 151,
     "metadata": {},
     "output_type": "execute_result"
    }
   ],
   "source": [
    "df.head(10)"
   ]
  },
  {
   "cell_type": "markdown",
   "metadata": {},
   "source": [
    "### Data Anomali"
   ]
  },
  {
   "cell_type": "markdown",
   "metadata": {},
   "source": [
    "Sekarang, tinjau beberapa kolom yang dirasa berperan penting dalam analisis."
   ]
  },
  {
   "cell_type": "markdown",
   "metadata": {},
   "source": [
    "#### months_existing"
   ]
  },
  {
   "cell_type": "markdown",
   "metadata": {},
   "source": [
    "Perlu diketahui bahwa Airbnb pertama kali beroperasi pada tahun 2007 dan asumsikan listing di Bangkok dapat dilakukan pada tahun tersebut. Dengan begitu, tidak boleh ada listing/iklan dengan lama waktu terpublikasi lebih dari 15 tahun atau 180 bulan."
   ]
  },
  {
   "cell_type": "code",
   "execution_count": 152,
   "metadata": {},
   "outputs": [
    {
     "data": {
      "text/plain": [
       "months_existing    150.0\n",
       "dtype: object"
      ]
     },
     "execution_count": 152,
     "metadata": {},
     "output_type": "execute_result"
    }
   ],
   "source": [
    "# Periksa nilai terbesar month_existing\n",
    "df[['months_existing']][df['months_existing'] != 'unknown'].max()"
   ]
  },
  {
   "cell_type": "markdown",
   "metadata": {},
   "source": [
    "Diperoleh paling lama suatu iklan terpublikasikan, atau penginapan telah diiklankan adalah 150 bulan. Hal ini tidak melanggar usia Airbnb. Akan tetapi, dalam hal analisis, kolom 'category_existing' akan menggantikan peran kolom ini sehingga kolom ini akan dihapus."
   ]
  },
  {
   "cell_type": "code",
   "execution_count": 153,
   "metadata": {},
   "outputs": [],
   "source": [
    "# Hapus kolom 'months_existing'\n",
    "df.drop(columns = 'months_existing', inplace = True)"
   ]
  },
  {
   "cell_type": "markdown",
   "metadata": {},
   "source": [
    "#### availability_365"
   ]
  },
  {
   "cell_type": "markdown",
   "metadata": {},
   "source": [
    "Kolom ini menyatakan kesediaan suatu penginapan dalam 365 hari mendatang. Perhatikan bahwa terdapat nilai nol pada kolom ini. Hal ini mungkin saja merepresentasikan penginapan yang benar-benar penuh ter-booking atau iklan telah diblokir oleh pemilik/host. Namun, tidak ada cara untuk mengetahui alasan dibalik nilai nol pada kolom ini. Selain itu, tidak mungkin seseorang akan mempertimbangkan penginapan yang tidak tersedia di masa depan. Oleh karena itu, hapus data dengan kondisi ini dengan meninjau proporsinya (banyak data yang akan dihapus)."
   ]
  },
  {
   "cell_type": "code",
   "execution_count": 154,
   "metadata": {},
   "outputs": [
    {
     "data": {
      "text/plain": [
       "5.408646260650047"
      ]
     },
     "execution_count": 154,
     "metadata": {},
     "output_type": "execute_result"
    }
   ],
   "source": [
    "# Proporsi banyak listing yang tidak tersedia di masa depan terhadap semua listing dalam dataframe (dalam persentase)\n",
    "len(df[df['availability_365'] == 0])/len(df)*100"
   ]
  },
  {
   "cell_type": "code",
   "execution_count": 155,
   "metadata": {},
   "outputs": [
    {
     "data": {
      "text/plain": [
       "857"
      ]
     },
     "execution_count": 155,
     "metadata": {},
     "output_type": "execute_result"
    }
   ],
   "source": [
    "# Banyak listing yang tidak tersedia di masa depan\n",
    "len(df[df['availability_365'] == 0])"
   ]
  },
  {
   "cell_type": "markdown",
   "metadata": {},
   "source": [
    "Terdapat sekitar 5.408% atau 857 penginapan yang tidak tersedia di masa depan. Proporsi tersebut terbilang relatif sedikit sehingga penghapusan data tersebut akan dilakukan."
   ]
  },
  {
   "cell_type": "code",
   "execution_count": 156,
   "metadata": {},
   "outputs": [],
   "source": [
    "# Hapus data dengan 'availability_365' bernilai nol\n",
    "df = df.drop(df[df['availability_365'] == 0].index)"
   ]
  },
  {
   "cell_type": "code",
   "execution_count": 157,
   "metadata": {},
   "outputs": [
    {
     "data": {
      "text/plain": [
       "0"
      ]
     },
     "execution_count": 157,
     "metadata": {},
     "output_type": "execute_result"
    }
   ],
   "source": [
    "# Periksa apakah data telah terhapus\n",
    "len(df[df['availability_365'] == 0])"
   ]
  },
  {
   "cell_type": "markdown",
   "metadata": {},
   "source": [
    "#### price"
   ]
  },
  {
   "cell_type": "code",
   "execution_count": 158,
   "metadata": {},
   "outputs": [
    {
     "data": {
      "image/png": "[encoded data removed]",
      "text/plain": [
       "<Figure size 640x480 with 1 Axes>"
      ]
     },
     "metadata": {},
     "output_type": "display_data"
    }
   ],
   "source": [
    "# Periksa normality dari data 'price'\n",
    "plt.boxplot(df['price'][df['price'] <= 100000],vert=0)\n",
    "plt.show()"
   ]
  },
  {
   "cell_type": "markdown",
   "metadata": {},
   "source": [
    "Boxplot di atas dapat mengindikasikan banyaknya data outliers khususnya di atas kuartil ketiga."
   ]
  },
  {
   "cell_type": "markdown",
   "metadata": {},
   "source": [
    "Sebelumnya, diperoleh bahwa kolom price bertipe integer dalam satuan Baht Thailand. Akan dicari pagar outliers dari data price ini."
   ]
  },
  {
   "cell_type": "code",
   "execution_count": 159,
   "metadata": {},
   "outputs": [
    {
     "data": {
      "text/plain": [
       "np.float64(-1386.0)"
      ]
     },
     "metadata": {},
     "output_type": "display_data"
    },
    {
     "data": {
      "text/plain": [
       "np.float64(4710.0)"
      ]
     },
     "metadata": {},
     "output_type": "display_data"
    }
   ],
   "source": [
    "# Q1 dan Q3 price\n",
    "q1_price = df['price'].quantile(0.25)\n",
    "q3_price = df['price'].quantile(0.75)\n",
    "iqr_price = q3_price - q1_price\n",
    "\n",
    "# Pagar bawah dan atas outliers price\n",
    "lowerbound_price = q1_price - 1.5 * iqr_price\n",
    "upperbound_price = q3_price + 1.5 * iqr_price\n",
    "display(lowerbound_price,upperbound_price)"
   ]
  },
  {
   "cell_type": "code",
   "execution_count": 160,
   "metadata": {},
   "outputs": [
    {
     "data": {
      "text/html": [
       "<div>\n",
       "<style scoped>\n",
       "    .dataframe tbody tr th:only-of-type {\n",
       "        vertical-align: middle;\n",
       "    }\n",
       "\n",
       "    .dataframe tbody tr th {\n",
       "        vertical-align: top;\n",
       "    }\n",
       "\n",
       "    .dataframe thead th {\n",
       "        text-align: right;\n",
       "    }\n",
       "</style>\n",
       "<table border=\"1\" class=\"dataframe\">\n",
       "  <thead>\n",
       "    <tr style=\"text-align: right;\">\n",
       "      <th></th>\n",
       "      <th>price</th>\n",
       "    </tr>\n",
       "  </thead>\n",
       "  <tbody>\n",
       "    <tr>\n",
       "      <th>count</th>\n",
       "      <td>1.498800e+04</td>\n",
       "    </tr>\n",
       "    <tr>\n",
       "      <th>mean</th>\n",
       "      <td>3.259859e+03</td>\n",
       "    </tr>\n",
       "    <tr>\n",
       "      <th>std</th>\n",
       "      <td>2.563967e+04</td>\n",
       "    </tr>\n",
       "    <tr>\n",
       "      <th>min</th>\n",
       "      <td>2.780000e+02</td>\n",
       "    </tr>\n",
       "    <tr>\n",
       "      <th>25%</th>\n",
       "      <td>9.000000e+02</td>\n",
       "    </tr>\n",
       "    <tr>\n",
       "      <th>50%</th>\n",
       "      <td>1.446000e+03</td>\n",
       "    </tr>\n",
       "    <tr>\n",
       "      <th>75%</th>\n",
       "      <td>2.424000e+03</td>\n",
       "    </tr>\n",
       "    <tr>\n",
       "      <th>max</th>\n",
       "      <td>1.100000e+06</td>\n",
       "    </tr>\n",
       "  </tbody>\n",
       "</table>\n",
       "</div>"
      ],
      "text/plain": [
       "              price\n",
       "count  1.498800e+04\n",
       "mean   3.259859e+03\n",
       "std    2.563967e+04\n",
       "min    2.780000e+02\n",
       "25%    9.000000e+02\n",
       "50%    1.446000e+03\n",
       "75%    2.424000e+03\n",
       "max    1.100000e+06"
      ]
     },
     "execution_count": 160,
     "metadata": {},
     "output_type": "execute_result"
    }
   ],
   "source": [
    "# Tinjau statistika deskriptif kolom price\n",
    "df[['price']].describe()"
   ]
  },
  {
   "cell_type": "markdown",
   "metadata": {},
   "source": [
    "Sebagai verifikasi, tinjau bahwa harga per hari terkecil yang ada adalah 278 baht (125000 rupiah, kurs 31 Desember 2022). Hal ini menyatakan bahwa harga tergolong masuk akal. Akan tetapi, tidak masuk akal jika rata-rata harga per hari adalah 3260 baht (1467000 rupiah, kurs 31 Desember 2022) dan harga per hari terbesar adalah 1100000 baht (495000000 rupiah, kurs 31 Desember 2022), mengingat harga tersebut tergolong mahal untuk dipilih kebanyakan orang. Dengan begitu, terdapat outliers berdasarkan pagar-pagar yang telah ditentukan sebelumnya."
   ]
  },
  {
   "cell_type": "code",
   "execution_count": 161,
   "metadata": {},
   "outputs": [
    {
     "data": {
      "text/html": [
       "<div>\n",
       "<style scoped>\n",
       "    .dataframe tbody tr th:only-of-type {\n",
       "        vertical-align: middle;\n",
       "    }\n",
       "\n",
       "    .dataframe tbody tr th {\n",
       "        vertical-align: top;\n",
       "    }\n",
       "\n",
       "    .dataframe thead th {\n",
       "        text-align: right;\n",
       "    }\n",
       "</style>\n",
       "<table border=\"1\" class=\"dataframe\">\n",
       "  <thead>\n",
       "    <tr style=\"text-align: right;\">\n",
       "      <th></th>\n",
       "      <th>id</th>\n",
       "      <th>name</th>\n",
       "      <th>host_id</th>\n",
       "      <th>host_name</th>\n",
       "      <th>neighbourhood</th>\n",
       "      <th>latitude</th>\n",
       "      <th>longitude</th>\n",
       "      <th>room_type</th>\n",
       "      <th>price</th>\n",
       "      <th>minimum_nights</th>\n",
       "      <th>number_of_reviews</th>\n",
       "      <th>reviews_per_month</th>\n",
       "      <th>calculated_host_listings_count</th>\n",
       "      <th>availability_365</th>\n",
       "      <th>number_of_reviews_ltm</th>\n",
       "      <th>category_existing</th>\n",
       "    </tr>\n",
       "  </thead>\n",
       "  <tbody>\n",
       "    <tr>\n",
       "      <th>17</th>\n",
       "      <td>66046</td>\n",
       "      <td>24Flr- 1br Apt near JJ, MRT, BTS</td>\n",
       "      <td>323158</td>\n",
       "      <td>Sue</td>\n",
       "      <td>Chatu Chak</td>\n",
       "      <td>13.822980</td>\n",
       "      <td>100.564840</td>\n",
       "      <td>Entire home/apt</td>\n",
       "      <td>122594</td>\n",
       "      <td>2</td>\n",
       "      <td>9</td>\n",
       "      <td>0.09</td>\n",
       "      <td>6</td>\n",
       "      <td>180</td>\n",
       "      <td>0</td>\n",
       "      <td>old</td>\n",
       "    </tr>\n",
       "    <tr>\n",
       "      <th>18</th>\n",
       "      <td>105042</td>\n",
       "      <td>Central Bangkok 3 Bedroom Apartment</td>\n",
       "      <td>545890</td>\n",
       "      <td>Henry</td>\n",
       "      <td>Khlong Toei</td>\n",
       "      <td>13.733780</td>\n",
       "      <td>100.563030</td>\n",
       "      <td>Entire home/apt</td>\n",
       "      <td>5680</td>\n",
       "      <td>28</td>\n",
       "      <td>148</td>\n",
       "      <td>1.08</td>\n",
       "      <td>1</td>\n",
       "      <td>334</td>\n",
       "      <td>0</td>\n",
       "      <td>old</td>\n",
       "    </tr>\n",
       "    <tr>\n",
       "      <th>19</th>\n",
       "      <td>1793000</td>\n",
       "      <td>The Duplex - Asoke- Luxury 92sqm</td>\n",
       "      <td>9407280</td>\n",
       "      <td>Timo</td>\n",
       "      <td>Vadhana</td>\n",
       "      <td>13.746680</td>\n",
       "      <td>100.561370</td>\n",
       "      <td>Entire home/apt</td>\n",
       "      <td>5034</td>\n",
       "      <td>21</td>\n",
       "      <td>287</td>\n",
       "      <td>2.59</td>\n",
       "      <td>1</td>\n",
       "      <td>349</td>\n",
       "      <td>3</td>\n",
       "      <td>old</td>\n",
       "    </tr>\n",
       "    <tr>\n",
       "      <th>34</th>\n",
       "      <td>978531</td>\n",
       "      <td>Urban Oasis in the heart of Bangkok</td>\n",
       "      <td>5309669</td>\n",
       "      <td>Apiradee</td>\n",
       "      <td>Sathon</td>\n",
       "      <td>13.722910</td>\n",
       "      <td>100.537590</td>\n",
       "      <td>Entire home/apt</td>\n",
       "      <td>5429</td>\n",
       "      <td>2</td>\n",
       "      <td>3</td>\n",
       "      <td>0.03</td>\n",
       "      <td>3</td>\n",
       "      <td>174</td>\n",
       "      <td>0</td>\n",
       "      <td>old</td>\n",
       "    </tr>\n",
       "    <tr>\n",
       "      <th>48</th>\n",
       "      <td>185364</td>\n",
       "      <td>Beautiful Wood Bangkok Resort House</td>\n",
       "      <td>889670</td>\n",
       "      <td>Narumon</td>\n",
       "      <td>Nong Chok</td>\n",
       "      <td>13.779000</td>\n",
       "      <td>100.836710</td>\n",
       "      <td>Entire home/apt</td>\n",
       "      <td>8658</td>\n",
       "      <td>1</td>\n",
       "      <td>0</td>\n",
       "      <td>0.00</td>\n",
       "      <td>1</td>\n",
       "      <td>363</td>\n",
       "      <td>0</td>\n",
       "      <td>unknown</td>\n",
       "    </tr>\n",
       "    <tr>\n",
       "      <th>...</th>\n",
       "      <td>...</td>\n",
       "      <td>...</td>\n",
       "      <td>...</td>\n",
       "      <td>...</td>\n",
       "      <td>...</td>\n",
       "      <td>...</td>\n",
       "      <td>...</td>\n",
       "      <td>...</td>\n",
       "      <td>...</td>\n",
       "      <td>...</td>\n",
       "      <td>...</td>\n",
       "      <td>...</td>\n",
       "      <td>...</td>\n",
       "      <td>...</td>\n",
       "      <td>...</td>\n",
       "      <td>...</td>\n",
       "    </tr>\n",
       "    <tr>\n",
       "      <th>15756</th>\n",
       "      <td>786741911434733026</td>\n",
       "      <td>Private Home for 12-16 Guests 8 Parking</td>\n",
       "      <td>435016000</td>\n",
       "      <td>Tadchon</td>\n",
       "      <td>Lat Phrao</td>\n",
       "      <td>13.827958</td>\n",
       "      <td>100.591895</td>\n",
       "      <td>Entire home/apt</td>\n",
       "      <td>17900</td>\n",
       "      <td>2</td>\n",
       "      <td>0</td>\n",
       "      <td>0.00</td>\n",
       "      <td>10</td>\n",
       "      <td>362</td>\n",
       "      <td>0</td>\n",
       "      <td>unknown</td>\n",
       "    </tr>\n",
       "    <tr>\n",
       "      <th>15757</th>\n",
       "      <td>786742271004207966</td>\n",
       "      <td>Private Hotel for 12-16 Guests</td>\n",
       "      <td>435016000</td>\n",
       "      <td>Tadchon</td>\n",
       "      <td>Chatu Chak</td>\n",
       "      <td>13.821809</td>\n",
       "      <td>100.563067</td>\n",
       "      <td>Private room</td>\n",
       "      <td>17900</td>\n",
       "      <td>2</td>\n",
       "      <td>0</td>\n",
       "      <td>0.00</td>\n",
       "      <td>10</td>\n",
       "      <td>362</td>\n",
       "      <td>0</td>\n",
       "      <td>unknown</td>\n",
       "    </tr>\n",
       "    <tr>\n",
       "      <th>15765</th>\n",
       "      <td>786834873763460489</td>\n",
       "      <td>Cozy 1 bedroom 40 sqm, central</td>\n",
       "      <td>434168399</td>\n",
       "      <td>Krittika</td>\n",
       "      <td>Vadhana</td>\n",
       "      <td>13.735632</td>\n",
       "      <td>100.567862</td>\n",
       "      <td>Entire home/apt</td>\n",
       "      <td>7589</td>\n",
       "      <td>1</td>\n",
       "      <td>0</td>\n",
       "      <td>0.00</td>\n",
       "      <td>44</td>\n",
       "      <td>364</td>\n",
       "      <td>0</td>\n",
       "      <td>unknown</td>\n",
       "    </tr>\n",
       "    <tr>\n",
       "      <th>15766</th>\n",
       "      <td>786852847114140309</td>\n",
       "      <td>Cozy 1 bedroom 40 sqm, central</td>\n",
       "      <td>434168399</td>\n",
       "      <td>Krittika</td>\n",
       "      <td>Vadhana</td>\n",
       "      <td>13.734753</td>\n",
       "      <td>100.566682</td>\n",
       "      <td>Entire home/apt</td>\n",
       "      <td>7589</td>\n",
       "      <td>1</td>\n",
       "      <td>0</td>\n",
       "      <td>0.00</td>\n",
       "      <td>44</td>\n",
       "      <td>364</td>\n",
       "      <td>0</td>\n",
       "      <td>unknown</td>\n",
       "    </tr>\n",
       "    <tr>\n",
       "      <th>15767</th>\n",
       "      <td>786853604983296847</td>\n",
       "      <td>Grandio Ladprao 3 Bed 3 Bath</td>\n",
       "      <td>435016000</td>\n",
       "      <td>Tadchon</td>\n",
       "      <td>Bueng Kum</td>\n",
       "      <td>13.797979</td>\n",
       "      <td>100.659953</td>\n",
       "      <td>Entire home/apt</td>\n",
       "      <td>8900</td>\n",
       "      <td>3</td>\n",
       "      <td>0</td>\n",
       "      <td>0.00</td>\n",
       "      <td>10</td>\n",
       "      <td>364</td>\n",
       "      <td>0</td>\n",
       "      <td>unknown</td>\n",
       "    </tr>\n",
       "  </tbody>\n",
       "</table>\n",
       "<p>1308 rows × 16 columns</p>\n",
       "</div>"
      ],
      "text/plain": [
       "                       id                                     name    host_id  \\\n",
       "17     66046               24Flr- 1br Apt near JJ, MRT, BTS         323158      \n",
       "18     105042              Central Bangkok 3 Bedroom Apartment      545890      \n",
       "19     1793000             The Duplex - Asoke- Luxury 92sqm         9407280     \n",
       "34     978531              Urban Oasis in the heart of Bangkok      5309669     \n",
       "48     185364              Beautiful Wood Bangkok Resort House      889670      \n",
       "...       ...                                              ...         ...      \n",
       "15756  786741911434733026  Private Home for 12-16 Guests 8 Parking  435016000   \n",
       "15757  786742271004207966  Private Hotel for 12-16 Guests           435016000   \n",
       "15765  786834873763460489  Cozy 1 bedroom 40 sqm, central           434168399   \n",
       "15766  786852847114140309  Cozy 1 bedroom 40 sqm, central           434168399   \n",
       "15767  786853604983296847  Grandio Ladprao 3 Bed 3 Bath             435016000   \n",
       "\n",
       "      host_name neighbourhood   latitude   longitude        room_type   price  \\\n",
       "17     Sue       Chatu Chak    13.822980  100.564840  Entire home/apt  122594   \n",
       "18     Henry     Khlong Toei   13.733780  100.563030  Entire home/apt  5680     \n",
       "19     Timo      Vadhana       13.746680  100.561370  Entire home/apt  5034     \n",
       "34     Apiradee  Sathon        13.722910  100.537590  Entire home/apt  5429     \n",
       "48     Narumon   Nong Chok     13.779000  100.836710  Entire home/apt  8658     \n",
       "...        ...         ...           ...         ...              ...   ...     \n",
       "15756  Tadchon   Lat Phrao     13.827958  100.591895  Entire home/apt  17900    \n",
       "15757  Tadchon   Chatu Chak    13.821809  100.563067  Private room     17900    \n",
       "15765  Krittika  Vadhana       13.735632  100.567862  Entire home/apt  7589     \n",
       "15766  Krittika  Vadhana       13.734753  100.566682  Entire home/apt  7589     \n",
       "15767  Tadchon   Bueng Kum     13.797979  100.659953  Entire home/apt  8900     \n",
       "\n",
       "       minimum_nights  number_of_reviews  reviews_per_month  \\\n",
       "17     2               9                  0.09                \n",
       "18     28              148                1.08                \n",
       "19     21              287                2.59                \n",
       "34     2               3                  0.03                \n",
       "48     1               0                  0.00                \n",
       "...   ..              ..                   ...                \n",
       "15756  2               0                  0.00                \n",
       "15757  2               0                  0.00                \n",
       "15765  1               0                  0.00                \n",
       "15766  1               0                  0.00                \n",
       "15767  3               0                  0.00                \n",
       "\n",
       "       calculated_host_listings_count  availability_365  \\\n",
       "17     6                               180                \n",
       "18     1                               334                \n",
       "19     1                               349                \n",
       "34     3                               174                \n",
       "48     1                               363                \n",
       "...   ..                               ...                \n",
       "15756  10                              362                \n",
       "15757  10                              362                \n",
       "15765  44                              364                \n",
       "15766  44                              364                \n",
       "15767  10                              364                \n",
       "\n",
       "       number_of_reviews_ltm category_existing  \n",
       "17     0                      old               \n",
       "18     0                      old               \n",
       "19     3                      old               \n",
       "34     0                      old               \n",
       "48     0                      unknown           \n",
       "...   ..                          ...           \n",
       "15756  0                      unknown           \n",
       "15757  0                      unknown           \n",
       "15765  0                      unknown           \n",
       "15766  0                      unknown           \n",
       "15767  0                      unknown           \n",
       "\n",
       "[1308 rows x 16 columns]"
      ]
     },
     "execution_count": 161,
     "metadata": {},
     "output_type": "execute_result"
    }
   ],
   "source": [
    "# Harga per hari sebagai outliers\n",
    "df[(df['price'] > upperbound_price) | (df['price'] <= 0)]"
   ]
  },
  {
   "cell_type": "code",
   "execution_count": 162,
   "metadata": {},
   "outputs": [
    {
     "data": {
      "text/plain": [
       "8.726981585268215"
      ]
     },
     "execution_count": 162,
     "metadata": {},
     "output_type": "execute_result"
    }
   ],
   "source": [
    "# proporsi banyak outliers harga terhadap keseluruhan data (dalam persentase)\n",
    "len(df[(df['price'] > upperbound_price) | (df['price'] <= 0)])/len(df)*100"
   ]
  },
  {
   "cell_type": "markdown",
   "metadata": {},
   "source": [
    "Terdapat sekitar 8.727% atau 1308 data yang memuat harga sebagai outliers. Meskipun terlihat relatif banyak, 'value-for-money' menjadi kata kunci dari analisis data ini. Oleh karena itu, akan dihapus data tersebut."
   ]
  },
  {
   "cell_type": "code",
   "execution_count": 163,
   "metadata": {},
   "outputs": [],
   "source": [
    "# Hapus data outliers pada 'price'\n",
    "df = df.drop(df[(df['price'] > upperbound_price) | (df['price'] <= 0)].index)"
   ]
  },
  {
   "cell_type": "code",
   "execution_count": 164,
   "metadata": {},
   "outputs": [
    {
     "data": {
      "text/plain": [
       "0"
      ]
     },
     "execution_count": 164,
     "metadata": {},
     "output_type": "execute_result"
    }
   ],
   "source": [
    "# Periksa apakah data telah terhapus\n",
    "len(df[(df['price'] > upperbound_price) | (df['price'] <= 0)])"
   ]
  },
  {
   "cell_type": "code",
   "execution_count": 165,
   "metadata": {},
   "outputs": [
    {
     "data": {
      "image/png": "[encoded data removed]",
      "text/plain": [
       "<Figure size 640x480 with 1 Axes>"
      ]
     },
     "metadata": {},
     "output_type": "display_data"
    }
   ],
   "source": [
    "# Boxplot price baru\n",
    "plt.boxplot(df['price'],vert=0)\n",
    "plt.show()"
   ]
  },
  {
   "cell_type": "markdown",
   "metadata": {},
   "source": [
    "Dengan begitu, harga suatu penginapan lebih masuk akal dalam mempertimbangkan value-for-money"
   ]
  },
  {
   "cell_type": "markdown",
   "metadata": {},
   "source": [
    "#### minimum_nights"
   ]
  },
  {
   "cell_type": "markdown",
   "metadata": {},
   "source": [
    "Airbnb menyediakan dua tipe penginapan:\n",
    "1. Short-term renting (STR) untuk durasi penginapan di bawah 28 hari\n",
    "2. Long-term renting (LTR) untuk durasi penginapan minimal 28 hari\n",
    "\n",
    "Karena penggolongan ini belum ada pada dataframe, buat kolom baru 'duration_renting' dengan values 'short-term' dan 'long-term'."
   ]
  },
  {
   "cell_type": "code",
   "execution_count": 166,
   "metadata": {},
   "outputs": [],
   "source": [
    "# Fungsi kategori durasi penginapan\n",
    "def entry_duration_renting(days):\n",
    "    if days < 28:\n",
    "        return 'short-term'\n",
    "    elif days >= 28:\n",
    "        return 'long-term'\n",
    "\n",
    "# Membuat kolom sementara 'months_existing' menggunakan fungsi di atas\n",
    "df['duration_renting'] = df.apply(lambda row: entry_duration_renting(row['minimum_nights']), axis=1)"
   ]
  },
  {
   "cell_type": "markdown",
   "metadata": {},
   "source": [
    "Tinjau proporsi STR dan LTR terhadap keseluruhan data penginapan yang diiklankan"
   ]
  },
  {
   "cell_type": "code",
   "execution_count": 167,
   "metadata": {},
   "outputs": [
    {
     "data": {
      "text/plain": [
       "81.22076023391813"
      ]
     },
     "execution_count": 167,
     "metadata": {},
     "output_type": "execute_result"
    }
   ],
   "source": [
    "# Proporsi STR (persentase)\n",
    "len(df[(df['duration_renting'] == 'short-term')])/len(df)*100"
   ]
  },
  {
   "cell_type": "code",
   "execution_count": 168,
   "metadata": {},
   "outputs": [
    {
     "data": {
      "text/plain": [
       "18.779239766081872"
      ]
     },
     "execution_count": 168,
     "metadata": {},
     "output_type": "execute_result"
    }
   ],
   "source": [
    "# Proporsi LTR (persentase)\n",
    "len(df[(df['duration_renting'] == 'long-term')])/len(df)*100"
   ]
  },
  {
   "cell_type": "markdown",
   "metadata": {},
   "source": [
    "Diperoleh sekitar 81.22% penginapan tergolong short-term renting, dan sekitar 18.78% penginapan tergolong long-term renting (yang tergolong cukup banyak). Dalam analisis selanjutnya, pisahkan dataframe berdasarkan kedua kategori ini."
   ]
  },
  {
   "cell_type": "markdown",
   "metadata": {},
   "source": [
    "Tinjau kasus kesediaan durasi akomodasi kurang dari durasi minimal pemesanan akomodasi. Meskipun hal ini mungkin terjadi, tidak mungkin seseorang akan mempertimbangkan penginapan yang tidak mampu menyediakan waktu yang disyaratkan oleh pemilik penginapan itu sendiri. Hal ini juga menjadi batasan analisis bahwa 365 hari adalah maksimal banyak hari pemesanan suatu penginapan. Oleh karena itu, anggap data sebagai outliers dan hapus data dengan kasus ini."
   ]
  },
  {
   "cell_type": "code",
   "execution_count": 169,
   "metadata": {},
   "outputs": [
    {
     "data": {
      "text/plain": [
       "1.425438596491228"
      ]
     },
     "execution_count": 169,
     "metadata": {},
     "output_type": "execute_result"
    }
   ],
   "source": [
    "# Proporsi outliers minimum_nights khusus pada penginapan \n",
    "len(df[df['minimum_nights'] > df['availability_365']])/len(df)*100"
   ]
  },
  {
   "cell_type": "markdown",
   "metadata": {},
   "source": [
    "Terdapat sekitar 1.42% data outliers pada kolom 'minimum_nights'. Hal ini tergolong sangat sedikit."
   ]
  },
  {
   "cell_type": "code",
   "execution_count": 170,
   "metadata": {},
   "outputs": [],
   "source": [
    "# Hapus data dengan kesediaan durasi akomodasi kurang dari durasi minimal pemesanan akomodasi untuk long-term renting\n",
    "df = df.drop(df[df['minimum_nights'] > df['availability_365']].index)"
   ]
  },
  {
   "cell_type": "code",
   "execution_count": 171,
   "metadata": {},
   "outputs": [
    {
     "data": {
      "text/plain": [
       "0"
      ]
     },
     "execution_count": 171,
     "metadata": {},
     "output_type": "execute_result"
    }
   ],
   "source": [
    "# Periksa kembali apakah data telah dihapus\n",
    "len(df[df['minimum_nights'] > df['availability_365']])"
   ]
  },
  {
   "cell_type": "markdown",
   "metadata": {},
   "source": [
    "Sekarang, tinjau kembali proporsi penginapan STR dan LTR"
   ]
  },
  {
   "cell_type": "code",
   "execution_count": 172,
   "metadata": {},
   "outputs": [
    {
     "data": {
      "text/plain": [
       "82.24694104560622"
      ]
     },
     "execution_count": 172,
     "metadata": {},
     "output_type": "execute_result"
    }
   ],
   "source": [
    "# Proporsi STR (persentase)\n",
    "len(df[(df['duration_renting'] == 'short-term')])/len(df)*100"
   ]
  },
  {
   "cell_type": "code",
   "execution_count": 173,
   "metadata": {},
   "outputs": [
    {
     "data": {
      "text/plain": [
       "17.753058954393772"
      ]
     },
     "execution_count": 173,
     "metadata": {},
     "output_type": "execute_result"
    }
   ],
   "source": [
    "# Proporsi LTR (persentase)\n",
    "len(df[(df['duration_renting'] == 'long-term')])/len(df)*100"
   ]
  },
  {
   "cell_type": "markdown",
   "metadata": {},
   "source": [
    "Proporsi penginapan STR dan LTR tidak berubah secara signifikan. Dengan begitu, outliers data pada kolom 'minimum_nights' telah dihandle."
   ]
  },
  {
   "cell_type": "code",
   "execution_count": 174,
   "metadata": {},
   "outputs": [
    {
     "data": {
      "text/plain": [
       "2369"
      ]
     },
     "execution_count": 174,
     "metadata": {},
     "output_type": "execute_result"
    }
   ],
   "source": [
    "15854 - len(df)"
   ]
  },
  {
   "cell_type": "markdown",
   "metadata": {},
   "source": [
    "Terakhir, periksa apakah terdapat data duplikat pada dataframe."
   ]
  },
  {
   "cell_type": "code",
   "execution_count": 175,
   "metadata": {},
   "outputs": [
    {
     "data": {
      "text/plain": [
       "0"
      ]
     },
     "execution_count": 175,
     "metadata": {},
     "output_type": "execute_result"
    }
   ],
   "source": [
    "# Banyak data duplikat\n",
    "len(df[df.duplicated(keep='last') == True])"
   ]
  },
  {
   "cell_type": "markdown",
   "metadata": {},
   "source": [
    "Diperoleh bahwa data bebas dari duplikasi. Secara keseluruhan, proses data cleaning ini (termasuk batasan analisis) mereduksi 2369 data."
   ]
  },
  {
   "cell_type": "markdown",
   "metadata": {},
   "source": [
    "## Data Analysis"
   ]
  },
  {
   "cell_type": "markdown",
   "metadata": {},
   "source": [
    "Sebelum analisis dilakukan, buat dua dataframe terpisah berdasarkan penginapan STR dan LTR"
   ]
  },
  {
   "cell_type": "code",
   "execution_count": 177,
   "metadata": {},
   "outputs": [
    {
     "data": {
      "text/html": [
       "<div>\n",
       "<style scoped>\n",
       "    .dataframe tbody tr th:only-of-type {\n",
       "        vertical-align: middle;\n",
       "    }\n",
       "\n",
       "    .dataframe tbody tr th {\n",
       "        vertical-align: top;\n",
       "    }\n",
       "\n",
       "    .dataframe thead th {\n",
       "        text-align: right;\n",
       "    }\n",
       "</style>\n",
       "<table border=\"1\" class=\"dataframe\">\n",
       "  <thead>\n",
       "    <tr style=\"text-align: right;\">\n",
       "      <th></th>\n",
       "      <th>id</th>\n",
       "      <th>name</th>\n",
       "      <th>host_id</th>\n",
       "      <th>host_name</th>\n",
       "      <th>neighbourhood</th>\n",
       "      <th>latitude</th>\n",
       "      <th>longitude</th>\n",
       "      <th>room_type</th>\n",
       "      <th>price</th>\n",
       "      <th>minimum_nights</th>\n",
       "      <th>number_of_reviews</th>\n",
       "      <th>reviews_per_month</th>\n",
       "      <th>calculated_host_listings_count</th>\n",
       "      <th>availability_365</th>\n",
       "      <th>number_of_reviews_ltm</th>\n",
       "      <th>category_existing</th>\n",
       "      <th>duration_renting</th>\n",
       "    </tr>\n",
       "  </thead>\n",
       "  <tbody>\n",
       "    <tr>\n",
       "      <th>0</th>\n",
       "      <td>27934</td>\n",
       "      <td>Nice room with superb city view</td>\n",
       "      <td>120437</td>\n",
       "      <td>Nuttee</td>\n",
       "      <td>Ratchathewi</td>\n",
       "      <td>13.759830</td>\n",
       "      <td>100.541340</td>\n",
       "      <td>Entire home/apt</td>\n",
       "      <td>1905</td>\n",
       "      <td>3</td>\n",
       "      <td>65</td>\n",
       "      <td>0.50</td>\n",
       "      <td>2</td>\n",
       "      <td>353</td>\n",
       "      <td>0</td>\n",
       "      <td>old</td>\n",
       "      <td>short-term</td>\n",
       "    </tr>\n",
       "    <tr>\n",
       "      <th>1</th>\n",
       "      <td>27979</td>\n",
       "      <td>Easy going landlord,easy place</td>\n",
       "      <td>120541</td>\n",
       "      <td>Emy</td>\n",
       "      <td>Bang Na</td>\n",
       "      <td>13.668180</td>\n",
       "      <td>100.616740</td>\n",
       "      <td>Private room</td>\n",
       "      <td>1316</td>\n",
       "      <td>1</td>\n",
       "      <td>0</td>\n",
       "      <td>0.00</td>\n",
       "      <td>2</td>\n",
       "      <td>358</td>\n",
       "      <td>0</td>\n",
       "      <td>unknown</td>\n",
       "      <td>short-term</td>\n",
       "    </tr>\n",
       "    <tr>\n",
       "      <th>3</th>\n",
       "      <td>35780</td>\n",
       "      <td>Spacious one bedroom at The Kris Condo Bldg. 3</td>\n",
       "      <td>153730</td>\n",
       "      <td>Sirilak</td>\n",
       "      <td>Din Daeng</td>\n",
       "      <td>13.788230</td>\n",
       "      <td>100.572560</td>\n",
       "      <td>Private room</td>\n",
       "      <td>1286</td>\n",
       "      <td>7</td>\n",
       "      <td>2</td>\n",
       "      <td>0.03</td>\n",
       "      <td>1</td>\n",
       "      <td>323</td>\n",
       "      <td>1</td>\n",
       "      <td>old</td>\n",
       "      <td>short-term</td>\n",
       "    </tr>\n",
       "    <tr>\n",
       "      <th>4</th>\n",
       "      <td>941865</td>\n",
       "      <td>Suite Room 3 at MetroPoint</td>\n",
       "      <td>610315</td>\n",
       "      <td>Kasem</td>\n",
       "      <td>Bang Kapi</td>\n",
       "      <td>13.768720</td>\n",
       "      <td>100.633380</td>\n",
       "      <td>Private room</td>\n",
       "      <td>1905</td>\n",
       "      <td>1</td>\n",
       "      <td>0</td>\n",
       "      <td>0.00</td>\n",
       "      <td>3</td>\n",
       "      <td>365</td>\n",
       "      <td>0</td>\n",
       "      <td>unknown</td>\n",
       "      <td>short-term</td>\n",
       "    </tr>\n",
       "    <tr>\n",
       "      <th>6</th>\n",
       "      <td>48736</td>\n",
       "      <td>Condo with Chaopraya River View</td>\n",
       "      <td>222005</td>\n",
       "      <td>Athitaya</td>\n",
       "      <td>Rat Burana</td>\n",
       "      <td>13.685560</td>\n",
       "      <td>100.495350</td>\n",
       "      <td>Private room</td>\n",
       "      <td>1558</td>\n",
       "      <td>3</td>\n",
       "      <td>1</td>\n",
       "      <td>0.01</td>\n",
       "      <td>1</td>\n",
       "      <td>365</td>\n",
       "      <td>0</td>\n",
       "      <td>old</td>\n",
       "      <td>short-term</td>\n",
       "    </tr>\n",
       "    <tr>\n",
       "      <th>...</th>\n",
       "      <td>...</td>\n",
       "      <td>...</td>\n",
       "      <td>...</td>\n",
       "      <td>...</td>\n",
       "      <td>...</td>\n",
       "      <td>...</td>\n",
       "      <td>...</td>\n",
       "      <td>...</td>\n",
       "      <td>...</td>\n",
       "      <td>...</td>\n",
       "      <td>...</td>\n",
       "      <td>...</td>\n",
       "      <td>...</td>\n",
       "      <td>...</td>\n",
       "      <td>...</td>\n",
       "      <td>...</td>\n",
       "      <td>...</td>\n",
       "    </tr>\n",
       "    <tr>\n",
       "      <th>15848</th>\n",
       "      <td>790460476887978054</td>\n",
       "      <td>Euro LuxuryHotel PratunamMKt TripleBdNrShopingArea</td>\n",
       "      <td>491526222</td>\n",
       "      <td>Phakhamon</td>\n",
       "      <td>Ratchathewi</td>\n",
       "      <td>13.752904</td>\n",
       "      <td>100.540381</td>\n",
       "      <td>Private room</td>\n",
       "      <td>1400</td>\n",
       "      <td>1</td>\n",
       "      <td>0</td>\n",
       "      <td>0.00</td>\n",
       "      <td>14</td>\n",
       "      <td>357</td>\n",
       "      <td>0</td>\n",
       "      <td>unknown</td>\n",
       "      <td>short-term</td>\n",
       "    </tr>\n",
       "    <tr>\n",
       "      <th>15850</th>\n",
       "      <td>790474503157243541</td>\n",
       "      <td>Euro LuxuryHotel PratunamMKt TripleBdNrShopingArea</td>\n",
       "      <td>491526222</td>\n",
       "      <td>Phakhamon</td>\n",
       "      <td>Ratchathewi</td>\n",
       "      <td>13.753052</td>\n",
       "      <td>100.538738</td>\n",
       "      <td>Private room</td>\n",
       "      <td>1429</td>\n",
       "      <td>1</td>\n",
       "      <td>0</td>\n",
       "      <td>0.00</td>\n",
       "      <td>14</td>\n",
       "      <td>365</td>\n",
       "      <td>0</td>\n",
       "      <td>unknown</td>\n",
       "      <td>short-term</td>\n",
       "    </tr>\n",
       "    <tr>\n",
       "      <th>15851</th>\n",
       "      <td>790475335086864240</td>\n",
       "      <td>Euro LuxuryHotel PratunamMKt TwinBedNrShopingArea</td>\n",
       "      <td>491526222</td>\n",
       "      <td>Phakhamon</td>\n",
       "      <td>Ratchathewi</td>\n",
       "      <td>13.753169</td>\n",
       "      <td>100.538700</td>\n",
       "      <td>Private room</td>\n",
       "      <td>1214</td>\n",
       "      <td>1</td>\n",
       "      <td>0</td>\n",
       "      <td>0.00</td>\n",
       "      <td>14</td>\n",
       "      <td>365</td>\n",
       "      <td>0</td>\n",
       "      <td>unknown</td>\n",
       "      <td>short-term</td>\n",
       "    </tr>\n",
       "    <tr>\n",
       "      <th>15852</th>\n",
       "      <td>790475546213717328</td>\n",
       "      <td>Euro LuxuryHotel PratunamMKt TwinBedNrShopingArea</td>\n",
       "      <td>491526222</td>\n",
       "      <td>Phakhamon</td>\n",
       "      <td>Ratchathewi</td>\n",
       "      <td>13.754789</td>\n",
       "      <td>100.538757</td>\n",
       "      <td>Private room</td>\n",
       "      <td>1214</td>\n",
       "      <td>1</td>\n",
       "      <td>0</td>\n",
       "      <td>0.00</td>\n",
       "      <td>14</td>\n",
       "      <td>365</td>\n",
       "      <td>0</td>\n",
       "      <td>unknown</td>\n",
       "      <td>short-term</td>\n",
       "    </tr>\n",
       "    <tr>\n",
       "      <th>15853</th>\n",
       "      <td>790476492384199044</td>\n",
       "      <td>Euro LuxuryHotel PratunamMKt TwinBedNrShopingArea</td>\n",
       "      <td>491526222</td>\n",
       "      <td>Phakhamon</td>\n",
       "      <td>Ratchathewi</td>\n",
       "      <td>13.752960</td>\n",
       "      <td>100.540820</td>\n",
       "      <td>Private room</td>\n",
       "      <td>1214</td>\n",
       "      <td>1</td>\n",
       "      <td>0</td>\n",
       "      <td>0.00</td>\n",
       "      <td>14</td>\n",
       "      <td>365</td>\n",
       "      <td>0</td>\n",
       "      <td>unknown</td>\n",
       "      <td>short-term</td>\n",
       "    </tr>\n",
       "  </tbody>\n",
       "</table>\n",
       "<p>11091 rows × 17 columns</p>\n",
       "</div>"
      ],
      "text/plain": [
       "                       id                                                name  \\\n",
       "0      27934               Nice room with superb city view                      \n",
       "1      27979               Easy going landlord,easy place                       \n",
       "3      35780               Spacious one bedroom at The Kris Condo Bldg. 3       \n",
       "4      941865              Suite Room 3 at MetroPoint                           \n",
       "6      48736               Condo with Chaopraya River View                      \n",
       "...      ...                                           ...                      \n",
       "15848  790460476887978054  Euro LuxuryHotel PratunamMKt TripleBdNrShopingArea   \n",
       "15850  790474503157243541  Euro LuxuryHotel PratunamMKt TripleBdNrShopingArea   \n",
       "15851  790475335086864240  Euro LuxuryHotel PratunamMKt TwinBedNrShopingArea    \n",
       "15852  790475546213717328  Euro LuxuryHotel PratunamMKt TwinBedNrShopingArea    \n",
       "15853  790476492384199044  Euro LuxuryHotel PratunamMKt TwinBedNrShopingArea    \n",
       "\n",
       "         host_id  host_name neighbourhood   latitude   longitude  \\\n",
       "0      120437     Nuttee     Ratchathewi   13.759830  100.541340   \n",
       "1      120541     Emy        Bang Na       13.668180  100.616740   \n",
       "3      153730     Sirilak    Din Daeng     13.788230  100.572560   \n",
       "4      610315     Kasem      Bang Kapi     13.768720  100.633380   \n",
       "6      222005     Athitaya   Rat Burana    13.685560  100.495350   \n",
       "...       ...          ...          ...          ...         ...   \n",
       "15848  491526222  Phakhamon  Ratchathewi   13.752904  100.540381   \n",
       "15850  491526222  Phakhamon  Ratchathewi   13.753052  100.538738   \n",
       "15851  491526222  Phakhamon  Ratchathewi   13.753169  100.538700   \n",
       "15852  491526222  Phakhamon  Ratchathewi   13.754789  100.538757   \n",
       "15853  491526222  Phakhamon  Ratchathewi   13.752960  100.540820   \n",
       "\n",
       "             room_type  price  minimum_nights  number_of_reviews  \\\n",
       "0      Entire home/apt  1905   3               65                  \n",
       "1      Private room     1316   1               0                   \n",
       "3      Private room     1286   7               2                   \n",
       "4      Private room     1905   1               0                   \n",
       "6      Private room     1558   3               1                   \n",
       "...             ...      ...  ..              ..                   \n",
       "15848  Private room     1400   1               0                   \n",
       "15850  Private room     1429   1               0                   \n",
       "15851  Private room     1214   1               0                   \n",
       "15852  Private room     1214   1               0                   \n",
       "15853  Private room     1214   1               0                   \n",
       "\n",
       "       reviews_per_month  calculated_host_listings_count  availability_365  \\\n",
       "0      0.50               2                               353                \n",
       "1      0.00               2                               358                \n",
       "3      0.03               1                               323                \n",
       "4      0.00               3                               365                \n",
       "6      0.01               1                               365                \n",
       "...     ...              ..                               ...                \n",
       "15848  0.00               14                              357                \n",
       "15850  0.00               14                              365                \n",
       "15851  0.00               14                              365                \n",
       "15852  0.00               14                              365                \n",
       "15853  0.00               14                              365                \n",
       "\n",
       "       number_of_reviews_ltm category_existing duration_renting  \n",
       "0      0                      old               short-term       \n",
       "1      0                      unknown           short-term       \n",
       "3      1                      old               short-term       \n",
       "4      0                      unknown           short-term       \n",
       "6      0                      old               short-term       \n",
       "...   ..                      ...                      ...       \n",
       "15848  0                      unknown           short-term       \n",
       "15850  0                      unknown           short-term       \n",
       "15851  0                      unknown           short-term       \n",
       "15852  0                      unknown           short-term       \n",
       "15853  0                      unknown           short-term       \n",
       "\n",
       "[11091 rows x 17 columns]"
      ]
     },
     "execution_count": 177,
     "metadata": {},
     "output_type": "execute_result"
    }
   ],
   "source": [
    "# Dataframe STR\n",
    "df_str = df[df['duration_renting'] == 'short-term']\n",
    "df_str"
   ]
  },
  {
   "cell_type": "code",
   "execution_count": 178,
   "metadata": {},
   "outputs": [
    {
     "data": {
      "text/html": [
       "<div>\n",
       "<style scoped>\n",
       "    .dataframe tbody tr th:only-of-type {\n",
       "        vertical-align: middle;\n",
       "    }\n",
       "\n",
       "    .dataframe tbody tr th {\n",
       "        vertical-align: top;\n",
       "    }\n",
       "\n",
       "    .dataframe thead th {\n",
       "        text-align: right;\n",
       "    }\n",
       "</style>\n",
       "<table border=\"1\" class=\"dataframe\">\n",
       "  <thead>\n",
       "    <tr style=\"text-align: right;\">\n",
       "      <th></th>\n",
       "      <th>id</th>\n",
       "      <th>name</th>\n",
       "      <th>host_id</th>\n",
       "      <th>host_name</th>\n",
       "      <th>neighbourhood</th>\n",
       "      <th>latitude</th>\n",
       "      <th>longitude</th>\n",
       "      <th>room_type</th>\n",
       "      <th>price</th>\n",
       "      <th>minimum_nights</th>\n",
       "      <th>number_of_reviews</th>\n",
       "      <th>reviews_per_month</th>\n",
       "      <th>calculated_host_listings_count</th>\n",
       "      <th>availability_365</th>\n",
       "      <th>number_of_reviews_ltm</th>\n",
       "      <th>category_existing</th>\n",
       "      <th>duration_renting</th>\n",
       "    </tr>\n",
       "  </thead>\n",
       "  <tbody>\n",
       "    <tr>\n",
       "      <th>2</th>\n",
       "      <td>28745</td>\n",
       "      <td>modern-style apartment in Bangkok</td>\n",
       "      <td>123784</td>\n",
       "      <td>Familyroom</td>\n",
       "      <td>Bang Kapi</td>\n",
       "      <td>13.752320</td>\n",
       "      <td>100.624020</td>\n",
       "      <td>Private room</td>\n",
       "      <td>800</td>\n",
       "      <td>60</td>\n",
       "      <td>0</td>\n",
       "      <td>0.00</td>\n",
       "      <td>1</td>\n",
       "      <td>365</td>\n",
       "      <td>0</td>\n",
       "      <td>unknown</td>\n",
       "      <td>long-term</td>\n",
       "    </tr>\n",
       "    <tr>\n",
       "      <th>5</th>\n",
       "      <td>1704776</td>\n",
       "      <td>NEw Pro!!  Bungalow Bkk Centre</td>\n",
       "      <td>2129668</td>\n",
       "      <td>Wimonpak</td>\n",
       "      <td>Bang Kho laen</td>\n",
       "      <td>13.697570</td>\n",
       "      <td>100.528800</td>\n",
       "      <td>Entire home/apt</td>\n",
       "      <td>1000</td>\n",
       "      <td>250</td>\n",
       "      <td>19</td>\n",
       "      <td>0.17</td>\n",
       "      <td>41</td>\n",
       "      <td>365</td>\n",
       "      <td>0</td>\n",
       "      <td>old</td>\n",
       "      <td>long-term</td>\n",
       "    </tr>\n",
       "    <tr>\n",
       "      <th>14</th>\n",
       "      <td>959254</td>\n",
       "      <td>Deluxe Condo, Nana, Pool/GYM/Sauna</td>\n",
       "      <td>5153476</td>\n",
       "      <td>Natcha</td>\n",
       "      <td>Khlong Toei</td>\n",
       "      <td>13.715160</td>\n",
       "      <td>100.568060</td>\n",
       "      <td>Entire home/apt</td>\n",
       "      <td>1400</td>\n",
       "      <td>30</td>\n",
       "      <td>0</td>\n",
       "      <td>0.00</td>\n",
       "      <td>1</td>\n",
       "      <td>365</td>\n",
       "      <td>0</td>\n",
       "      <td>unknown</td>\n",
       "      <td>long-term</td>\n",
       "    </tr>\n",
       "    <tr>\n",
       "      <th>16</th>\n",
       "      <td>1791481</td>\n",
       "      <td>Nice and Quiet condo near BTS Onnut</td>\n",
       "      <td>9399478</td>\n",
       "      <td>Piyakorn</td>\n",
       "      <td>Khlong Toei</td>\n",
       "      <td>13.707190</td>\n",
       "      <td>100.599360</td>\n",
       "      <td>Entire home/apt</td>\n",
       "      <td>1577</td>\n",
       "      <td>30</td>\n",
       "      <td>78</td>\n",
       "      <td>0.78</td>\n",
       "      <td>1</td>\n",
       "      <td>330</td>\n",
       "      <td>0</td>\n",
       "      <td>old</td>\n",
       "      <td>long-term</td>\n",
       "    </tr>\n",
       "    <tr>\n",
       "      <th>21</th>\n",
       "      <td>113744</td>\n",
       "      <td>River View - Ivy Condo (1 Bedroom)</td>\n",
       "      <td>578110</td>\n",
       "      <td>Muay</td>\n",
       "      <td>Rat Burana</td>\n",
       "      <td>13.685680</td>\n",
       "      <td>100.492310</td>\n",
       "      <td>Private room</td>\n",
       "      <td>1385</td>\n",
       "      <td>30</td>\n",
       "      <td>0</td>\n",
       "      <td>0.00</td>\n",
       "      <td>1</td>\n",
       "      <td>365</td>\n",
       "      <td>0</td>\n",
       "      <td>unknown</td>\n",
       "      <td>long-term</td>\n",
       "    </tr>\n",
       "    <tr>\n",
       "      <th>...</th>\n",
       "      <td>...</td>\n",
       "      <td>...</td>\n",
       "      <td>...</td>\n",
       "      <td>...</td>\n",
       "      <td>...</td>\n",
       "      <td>...</td>\n",
       "      <td>...</td>\n",
       "      <td>...</td>\n",
       "      <td>...</td>\n",
       "      <td>...</td>\n",
       "      <td>...</td>\n",
       "      <td>...</td>\n",
       "      <td>...</td>\n",
       "      <td>...</td>\n",
       "      <td>...</td>\n",
       "      <td>...</td>\n",
       "      <td>...</td>\n",
       "    </tr>\n",
       "    <tr>\n",
       "      <th>15805</th>\n",
       "      <td>789440470509021553</td>\n",
       "      <td>supremesky pool@chitlom</td>\n",
       "      <td>342811212</td>\n",
       "      <td>Miu Miu</td>\n",
       "      <td>Ratchathewi</td>\n",
       "      <td>13.750080</td>\n",
       "      <td>100.540229</td>\n",
       "      <td>Entire home/apt</td>\n",
       "      <td>2343</td>\n",
       "      <td>29</td>\n",
       "      <td>0</td>\n",
       "      <td>0.00</td>\n",
       "      <td>23</td>\n",
       "      <td>328</td>\n",
       "      <td>0</td>\n",
       "      <td>unknown</td>\n",
       "      <td>long-term</td>\n",
       "    </tr>\n",
       "    <tr>\n",
       "      <th>15833</th>\n",
       "      <td>790283533781929861</td>\n",
       "      <td>iSanook Suite 34 sqm 8</td>\n",
       "      <td>8663142</td>\n",
       "      <td>ISanook Hotel</td>\n",
       "      <td>Bang Rak</td>\n",
       "      <td>13.733555</td>\n",
       "      <td>100.522394</td>\n",
       "      <td>Private room</td>\n",
       "      <td>1900</td>\n",
       "      <td>30</td>\n",
       "      <td>0</td>\n",
       "      <td>0.00</td>\n",
       "      <td>45</td>\n",
       "      <td>363</td>\n",
       "      <td>0</td>\n",
       "      <td>unknown</td>\n",
       "      <td>long-term</td>\n",
       "    </tr>\n",
       "    <tr>\n",
       "      <th>15839</th>\n",
       "      <td>790404714116491557</td>\n",
       "      <td>Ratchada Condo next To MRT</td>\n",
       "      <td>34432625</td>\n",
       "      <td>Alex</td>\n",
       "      <td>Huai Khwang</td>\n",
       "      <td>13.763732</td>\n",
       "      <td>100.569455</td>\n",
       "      <td>Entire home/apt</td>\n",
       "      <td>2100</td>\n",
       "      <td>28</td>\n",
       "      <td>0</td>\n",
       "      <td>0.00</td>\n",
       "      <td>2</td>\n",
       "      <td>332</td>\n",
       "      <td>0</td>\n",
       "      <td>unknown</td>\n",
       "      <td>long-term</td>\n",
       "    </tr>\n",
       "    <tr>\n",
       "      <th>15840</th>\n",
       "      <td>790441848994752308</td>\n",
       "      <td>Sukhumvit Condo Next to BTS</td>\n",
       "      <td>34432625</td>\n",
       "      <td>Alex</td>\n",
       "      <td>Bang Na</td>\n",
       "      <td>13.665395</td>\n",
       "      <td>100.603951</td>\n",
       "      <td>Entire home/apt</td>\n",
       "      <td>1400</td>\n",
       "      <td>28</td>\n",
       "      <td>0</td>\n",
       "      <td>0.00</td>\n",
       "      <td>2</td>\n",
       "      <td>364</td>\n",
       "      <td>0</td>\n",
       "      <td>unknown</td>\n",
       "      <td>long-term</td>\n",
       "    </tr>\n",
       "    <tr>\n",
       "      <th>15849</th>\n",
       "      <td>790465040741092826</td>\n",
       "      <td>素坤逸核心两房公寓42楼，靠近BTSon nut/无边天际泳池观赏曼谷夜景/出门当地美食街</td>\n",
       "      <td>94899359</td>\n",
       "      <td>Renee</td>\n",
       "      <td>Pra Wet</td>\n",
       "      <td>13.715132</td>\n",
       "      <td>100.653458</td>\n",
       "      <td>Private room</td>\n",
       "      <td>2298</td>\n",
       "      <td>28</td>\n",
       "      <td>0</td>\n",
       "      <td>0.00</td>\n",
       "      <td>1</td>\n",
       "      <td>362</td>\n",
       "      <td>0</td>\n",
       "      <td>unknown</td>\n",
       "      <td>long-term</td>\n",
       "    </tr>\n",
       "  </tbody>\n",
       "</table>\n",
       "<p>2394 rows × 17 columns</p>\n",
       "</div>"
      ],
      "text/plain": [
       "                       id                                           name  \\\n",
       "2      28745               modern-style apartment in Bangkok               \n",
       "5      1704776             NEw Pro!!  Bungalow Bkk Centre                  \n",
       "14     959254              Deluxe Condo, Nana, Pool/GYM/Sauna              \n",
       "16     1791481             Nice and Quiet condo near BTS Onnut             \n",
       "21     113744              River View - Ivy Condo (1 Bedroom)              \n",
       "...       ...                                             ...              \n",
       "15805  789440470509021553  supremesky pool@chitlom                         \n",
       "15833  790283533781929861  iSanook Suite 34 sqm 8                          \n",
       "15839  790404714116491557  Ratchada Condo next To MRT                      \n",
       "15840  790441848994752308  Sukhumvit Condo Next to BTS                     \n",
       "15849  790465040741092826  素坤逸核心两房公寓42楼，靠近BTSon nut/无边天际泳池观赏曼谷夜景/出门当地美食街   \n",
       "\n",
       "         host_id      host_name  neighbourhood   latitude   longitude  \\\n",
       "2      123784     Familyroom     Bang Kapi      13.752320  100.624020   \n",
       "5      2129668    Wimonpak       Bang Kho laen  13.697570  100.528800   \n",
       "14     5153476    Natcha         Khlong Toei    13.715160  100.568060   \n",
       "16     9399478    Piyakorn       Khlong Toei    13.707190  100.599360   \n",
       "21     578110     Muay           Rat Burana     13.685680  100.492310   \n",
       "...       ...      ...                  ...           ...         ...   \n",
       "15805  342811212  Miu Miu        Ratchathewi    13.750080  100.540229   \n",
       "15833  8663142    ISanook Hotel  Bang Rak       13.733555  100.522394   \n",
       "15839  34432625   Alex           Huai Khwang    13.763732  100.569455   \n",
       "15840  34432625   Alex           Bang Na        13.665395  100.603951   \n",
       "15849  94899359   Renee          Pra Wet        13.715132  100.653458   \n",
       "\n",
       "             room_type  price  minimum_nights  number_of_reviews  \\\n",
       "2      Private room     800    60              0                   \n",
       "5      Entire home/apt  1000   250             19                  \n",
       "14     Entire home/apt  1400   30              0                   \n",
       "16     Entire home/apt  1577   30              78                  \n",
       "21     Private room     1385   30              0                   \n",
       "...             ...      ...   ..             ..                   \n",
       "15805  Entire home/apt  2343   29              0                   \n",
       "15833  Private room     1900   30              0                   \n",
       "15839  Entire home/apt  2100   28              0                   \n",
       "15840  Entire home/apt  1400   28              0                   \n",
       "15849  Private room     2298   28              0                   \n",
       "\n",
       "       reviews_per_month  calculated_host_listings_count  availability_365  \\\n",
       "2      0.00               1                               365                \n",
       "5      0.17               41                              365                \n",
       "14     0.00               1                               365                \n",
       "16     0.78               1                               330                \n",
       "21     0.00               1                               365                \n",
       "...     ...              ..                               ...                \n",
       "15805  0.00               23                              328                \n",
       "15833  0.00               45                              363                \n",
       "15839  0.00               2                               332                \n",
       "15840  0.00               2                               364                \n",
       "15849  0.00               1                               362                \n",
       "\n",
       "       number_of_reviews_ltm category_existing duration_renting  \n",
       "2      0                      unknown           long-term        \n",
       "5      0                      old               long-term        \n",
       "14     0                      unknown           long-term        \n",
       "16     0                      old               long-term        \n",
       "21     0                      unknown           long-term        \n",
       "...   ..                          ...                 ...        \n",
       "15805  0                      unknown           long-term        \n",
       "15833  0                      unknown           long-term        \n",
       "15839  0                      unknown           long-term        \n",
       "15840  0                      unknown           long-term        \n",
       "15849  0                      unknown           long-term        \n",
       "\n",
       "[2394 rows x 17 columns]"
      ]
     },
     "execution_count": 178,
     "metadata": {},
     "output_type": "execute_result"
    }
   ],
   "source": [
    "# Dataframe LTR\n",
    "df_ltr = df[df['duration_renting'] == 'long-term']\n",
    "df_ltr"
   ]
  },
  {
   "cell_type": "markdown",
   "metadata": {},
   "source": [
    "Dalam melakukan analisis data ini, prosedur dilakukan dengan mencoba menjawab beberapa pertanyaan yang berkaitan dengan masalah."
   ]
  },
  {
   "cell_type": "code",
   "execution_count": 183,
   "metadata": {},
   "outputs": [],
   "source": [
    "df.to_csv('Airbnb Bangkok aftar preprocessing.csv',index=False)"
   ]
  },
  {
   "cell_type": "markdown",
   "metadata": {},
   "source": [
    "#### 1. Faktor apa saja yang memengaruhi secara signifikan pandangan value-for-money pada iklan?"
   ]
  },
  {
   "cell_type": "markdown",
   "metadata": {},
   "source": [
    "##### Berdasarkan harga"
   ]
  },
  {
   "cell_type": "markdown",
   "metadata": {},
   "source": [
    "Dalam menentukan center dari distribusi harga, uji terlebih dahulu kenormalan data kolom 'price' untuk kedua short-term renting (STR) dan long-term renting (LTR)"
   ]
  },
  {
   "cell_type": "code",
   "execution_count": 184,
   "metadata": {},
   "outputs": [
    {
     "name": "stdout",
     "output_type": "stream",
     "text": [
      "tidak normal\n"
     ]
    }
   ],
   "source": [
    "# cek distribusi kolom 'price' untuk STR\n",
    "from scipy.stats import normaltest\n",
    "stats, pval = normaltest(df_str['price'])\n",
    "if pval<=0.05:\n",
    "    print('tidak normal') # H1 \n",
    "else: \n",
    "    print('distribusi normal') # H0"
   ]
  },
  {
   "cell_type": "code",
   "execution_count": 185,
   "metadata": {},
   "outputs": [
    {
     "name": "stdout",
     "output_type": "stream",
     "text": [
      "tidak normal\n"
     ]
    }
   ],
   "source": [
    "# cek distribusi kolom 'price' untuk LTR\n",
    "from scipy.stats import normaltest\n",
    "stats, pval = normaltest(df_ltr['price'])\n",
    "if pval<=0.05:\n",
    "    print('tidak normal') # H1 \n",
    "else: \n",
    "    print('distribusi normal') # H0"
   ]
  },
  {
   "cell_type": "markdown",
   "metadata": {},
   "source": [
    "Diperoleh baik harga untuk penginapan STR dan LTR tidak berdistribusi normal. Oleh karena itu, gunakan median sebagai pengukuran pusat data harga."
   ]
  },
  {
   "cell_type": "code",
   "execution_count": 188,
   "metadata": {},
   "outputs": [
    {
     "data": {
      "image/png": "[encoded data removed]",
      "text/plain": [
       "<Figure size 640x480 with 1 Axes>"
      ]
     },
     "metadata": {},
     "output_type": "display_data"
    }
   ],
   "source": [
    "# Harga berdasarkan lama iklan STR terpublikasi\n",
    "plt.hist(df_str['reviews_per_month'])\n",
    "# plt.xlabel('')\n",
    "plt.show()"
   ]
  },
  {
   "cell_type": "code",
   "execution_count": null,
   "metadata": {},
   "outputs": [],
   "source": [
    "# Harga berdasarkan lama iklan LTR terpublikasi"
   ]
  },
  {
   "cell_type": "markdown",
   "metadata": {},
   "source": [
    "#### 2. Apakah ada suatu daerah tertentu dengan iklan-iklan penginapan menumpuk (cukup padat iklan pada daerah tersebut)?"
   ]
  },
  {
   "cell_type": "markdown",
   "metadata": {},
   "source": [
    "#### 3. Bagaimana dampak engagement pemilik penginapan terhadap pandangan nilai dan kemampuan untuk dipercaya?"
   ]
  },
  {
   "cell_type": "markdown",
   "metadata": {},
   "source": [
    "#### 4. Bagaimana peran review terbaru dan harga dalam mempengaruhi daya tarik iklan?"
   ]
  },
  {
   "cell_type": "markdown",
   "metadata": {},
   "source": [
    "#### 5. Bagaimana cara pengaturan harga dapat membuat iklan-iklan yang 'terabaikan' terlihat lebih menarik?"
   ]
  }
 ],
 "metadata": {
  "kernelspec": {
   "display_name": "Python 3",
   "language": "python",
   "name": "python3"
  },
  "language_info": {
   "codemirror_mode": {
    "name": "ipython",
    "version": 3
   },
   "file_extension": ".py",
   "mimetype": "text/x-python",
   "name": "python",
   "nbconvert_exporter": "python",
   "pygments_lexer": "ipython3",
   "version": "3.11.9"
  }
 },
 "nbformat": 4,
 "nbformat_minor": 2
}
